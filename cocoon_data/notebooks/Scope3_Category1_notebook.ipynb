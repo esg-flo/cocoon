{
 "cells": [
  {
   "cell_type": "code",
   "execution_count": null,
   "id": "1b02303a-8b7d-4dd4-81da-56517439f50b",
   "metadata": {},
   "outputs": [],
   "source": [
    "# Upgrade pip\n",
    "!pip install --upgrade pip\n",
    "\n",
    "# Install required libraries\n",
    "# ------------------------\n",
    "# Original Cocoon data library\n",
    "# ! pip install --root-user-action=ignore cocoon_data==0.1.57 -qq\n",
    "\n",
    "# ESG Flo Fork of Cocoon data\n",
    "# !git clone https://github.com/esg-flo/cocoon.git\n",
    "!git clone -b st/feature/bedrock https://github.com/esg-flo/cocoon.git\n",
    "\n",
    "# Uninstall libraries\n",
    "# !pip uninstall cocoon_data==0.1.57 -y"
   ]
  },
  {
   "cell_type": "code",
   "execution_count": 76,
   "id": "f5b450ed-137e-4fe0-9438-0e03d803cdc1",
   "metadata": {},
   "outputs": [],
   "source": [
    "# Import the original cocoon package\n",
    "# from cocoon_data import *\n",
    "\n",
    "# Import the ESG Flo fork for cocoon package\n",
    "from cocoon.cocoon_data import *\n",
    "\n",
    "import os\n",
    "import warnings\n",
    "import pandas as pd\n",
    "\n",
    "warnings.filterwarnings(\"ignore\")\n",
    "pd.options.display.max_columns = None"
   ]
  },
  {
   "cell_type": "markdown",
   "id": "b4ed5ac3-7da0-48f2-b582-fcce9e20f67a",
   "metadata": {
    "tags": []
   },
   "source": [
    "# Run tenant files against Ecoinvent or Naisc Databases\n",
    "\n",
    "There are sections to run the files using either of emebeddings models from Amazon. The embedding models are: `Titan G1` and `Titan V2`. Difference between the two models:\n",
    "\n",
    "- Output Vector Size (Embedding size):\n",
    "    - `Titan G1`: 1536\n",
    "    - `Titan V2`: 1024 (default), 512, 256\n",
    "- Input format:\n",
    "    - `Titan G1`:\n",
    "        - The only available field is inputText, in which you can include text to convert into embeddings.\n",
    "        ```json\n",
    "        {\n",
    "            \"inputText\": string\n",
    "        }\n",
    "        ```\n",
    "    - `Titan V2`:\n",
    "        - The inputText parameter is **required**. The normalize and dimensions parameters are optional.\n",
    "        - `inputText` – Enter text to convert to embeddings.\n",
    "        - `normalize` - flag indicating whether or not to normalize the output embeddings. Defaults to true.\n",
    "        - `dimensions` - The number of dimensions the output embeddings should have. The following values are accepted: 1024 (default), 512, 256.\n",
    "        ```json\n",
    "        {\n",
    "            \"inputText\": string,\n",
    "            \"dimensions\": int,\n",
    "            \"normalize\": boolean\n",
    "        }\n",
    "        ```\n",
    "\n",
    "More info on the models checkout https://eu-central-1.console.aws.amazon.com/bedrock/home?region=eu-central-1#/providers?model=amazon.titan-embed-text-v1. <br>\n",
    "More info on the `Request`/`Response` format and example code checkout https://docs.aws.amazon.com/bedrock/latest/userguide/model-parameters-titan-embed-text.html.\n",
    "\n",
    "**Note**: While using `Titan V2` the default value for `normalize` is set to `False`. The two models in our codebase can be used by passing **`titan-g1`** or **`titan-v2`** as the parameter value for `model_name` parameter. You can find more details on this below\n",
    "\n",
    "**Output files**: The output for each run can be found in the `output/{database}/{embedding_model_name}/{input_filename}_{database}_{output_model_name}.html`\n",
    "\n",
    "For example, input_filename = \"20240701_lzboy"
   ]
  },
  {
   "cell_type": "markdown",
   "id": "1cc661df",
   "metadata": {},
   "source": [
    "# Run tenant files against Ecoinvent or Naisc Databases\n",
    "\n",
    "There are sections to run the files using either of emebeddings models from Amazon. The embedding models are: `Titan G1` and `Titan V2`. Difference between the two models:\n",
    "\n",
    "- Output Vector Size (Embedding size):\n",
    "    - `Titan G1`: 1536\n",
    "    - `Titan V2`: 1024 (default), 512, 256\n",
    "- Input format:\n",
    "    - `Titan G1`:\n",
    "        - The only available field is inputText, in which you can include text to convert into embeddings.\n",
    "        ```json\n",
    "        {\n",
    "            \"inputText\": string\n",
    "        }\n",
    "        ```\n",
    "    - `Titan V2`:\n",
    "        - The inputText parameter is **required**. The normalize and dimensions parameters are optional.\n",
    "        - `inputText` – Enter text to convert to embeddings.\n",
    "        - `normalize` - flag indicating whether or not to normalize the output embeddings. Defaults to true.\n",
    "        - `dimensions` - The number of dimensions the output embeddings should have. The following values are accepted: 1024 (default), 512, 256.\n",
    "        ```json\n",
    "        {\n",
    "            \"inputText\": string,\n",
    "            \"dimensions\": int,\n",
    "            \"normalize\": boolean\n",
    "        }\n",
    "        ```\n",
    "\n",
    "More info on the models checkout https://eu-central-1.console.aws.amazon.com/bedrock/home?region=eu-central-1#/providers?model=amazon.titan-embed-text-v1. <br>\n",
    "More info on the `Request`/`Response` format and example code checkout https://docs.aws.amazon.com/bedrock/latest/userguide/model-parameters-titan-embed-text.html.\n",
    "\n",
    "**Note**: While using `Titan V2` the default value for `normalize` is set to `False`. The two models in our codebase can be used by passing **`titan-g1`** or **`titan-v2`** as the parameter value for `model_name` parameter. You can find more details on this below\n",
    "\n",
    "**Output files**: The output for each run can be found in the `output/{database}/{embedding_model_name}/{input_filename}_{database}_{output_model_name}.html`\n",
    "\n",
    "For example, \n",
    "```json\n",
    "{\n",
    "    \"input_filename\": \"20240701_lzboy\", \n",
    "    \"database\": \"ecoinvent\", \n",
    "    \"embedding_model_name\": \"titan-g1\"\n",
    "}\n",
    "```\n",
    "\n",
    "Location of the output html file at `output/ecoinvent/titan_g1/20240701_lzboy_ecoinvent_titan_g1.html`"
   ]
  },
  {
   "cell_type": "code",
   "execution_count": 16,
   "id": "b2e92013-3fdf-4694-9261-c680e5e03f84",
   "metadata": {},
   "outputs": [],
   "source": [
    "# Set API_TYPE to bedrock where we want to use the titan models and claude as llm\n",
    "openai.api_type = \"bedrock\""
   ]
  },
  {
   "cell_type": "markdown",
   "id": "8ab8fcd4-26e9-404f-bed4-3bc6478f299e",
   "metadata": {},
   "source": [
    "## Titan V2"
   ]
  },
  {
   "cell_type": "code",
   "execution_count": 125,
   "id": "c4e0481b-7352-4b09-a8a9-8c68582af5bc",
   "metadata": {},
   "outputs": [],
   "source": [
    "model_name = \"titan-v2\"\n",
    "output_model_name = \"titan_v2\""
   ]
  },
  {
   "cell_type": "markdown",
   "id": "6b980e6c-55b6-41cf-b494-98bfa1043f3d",
   "metadata": {
    "jp-MarkdownHeadingCollapsed": true,
    "tags": []
   },
   "source": [
    "### Ecoinvent"
   ]
  },
  {
   "cell_type": "code",
   "execution_count": 4,
   "id": "a7b0d9f4-5641-4e97-b9b8-9fec439cc1f2",
   "metadata": {},
   "outputs": [],
   "source": [
    "# Update `data`, `embedded_data`, and `output` fields based on input\n",
    "\n",
    "files = {\n",
    "    \"vocabulary\": f's3://esgflo-ml-test-scope3/ecoinventdb/20240201_scope3ecoinventdata.csv',\n",
    "    \"embeddings\": f's3://esgflo-ml-test-scope3/ecoinventdb/{output_model_name}_embeddings_output.csv',\n",
    "    \n",
    "    \"data\": f's3://esgflo-ml-test-scope3/20240701/20240620_LZB_Spend_based_suppliers.csv',\n",
    "    \"embedded_data\": f's3://esgflo-ml-test-scope3/20240701/20240620_LZB_Spend_based_suppliers_embedded.csv',\n",
    "    \"output\": f's3://esgflo-ml-test-scope3/20240701/20240620_LZB_Spend_based_suppliers_output.csv',\n",
    "}"
   ]
  },
  {
   "cell_type": "code",
   "execution_count": 63,
   "id": "abce3d46-2077-4ade-8ad8-6fa69923943e",
   "metadata": {},
   "outputs": [
    {
     "name": "stdout",
     "output_type": "stream",
     "text": [
      "Vocabulary size: 20938\n"
     ]
    }
   ],
   "source": [
    "vocabulary_df = pd.read_csv(files[\"vocabulary\"])\n",
    "print(f\"Vocabulary size: {vocabulary_df.shape[0]}\")"
   ]
  },
  {
   "cell_type": "code",
   "execution_count": 64,
   "id": "9a044fe4-e8ef-4055-9ff5-a56dcc56aedd",
   "metadata": {},
   "outputs": [
    {
     "name": "stdout",
     "output_type": "stream",
     "text": [
      "Size of the data file: 2\n"
     ]
    }
   ],
   "source": [
    "# Read the data file\n",
    "data_df = pd.read_csv(files[\"data\"])\n",
    "columns_to_use = data_df.columns.values\n",
    "\n",
    "# Select a subset of columns\n",
    "# columns_to_use = []\n",
    "\n",
    "data_df = data_df[columns_to_use].drop_duplicates() # Remove the duplicate rows\n",
    "\n",
    "# In case, you need to run a subset of the rows. Otherwise, comment the below line.\n",
    "data_df = data_df.iloc[:2]\n",
    "\n",
    "print(f\"Size of the data file: {data_df.shape[0]}\")"
   ]
  },
  {
   "cell_type": "code",
   "execution_count": 65,
   "id": "48a91012-ebb9-4b98-9544-1f69aef683d7",
   "metadata": {},
   "outputs": [
    {
     "data": {
      "text/html": [
       "<div>\n",
       "<style scoped>\n",
       "    .dataframe tbody tr th:only-of-type {\n",
       "        vertical-align: middle;\n",
       "    }\n",
       "\n",
       "    .dataframe tbody tr th {\n",
       "        vertical-align: top;\n",
       "    }\n",
       "\n",
       "    .dataframe thead th {\n",
       "        text-align: right;\n",
       "    }\n",
       "</style>\n",
       "<table border=\"1\" class=\"dataframe\">\n",
       "  <thead>\n",
       "    <tr style=\"text-align: right;\">\n",
       "      <th></th>\n",
       "      <th>Category of Product/Service Being Purchased - Level 1\\n(GICS, NAICS or other industry classification systems)</th>\n",
       "    </tr>\n",
       "  </thead>\n",
       "  <tbody>\n",
       "    <tr>\n",
       "      <th>0</th>\n",
       "      <td>Nonresidential maintenance and repair</td>\n",
       "    </tr>\n",
       "    <tr>\n",
       "      <th>1</th>\n",
       "      <td>Adhesive manufacturing</td>\n",
       "    </tr>\n",
       "  </tbody>\n",
       "</table>\n",
       "</div>"
      ],
      "text/plain": [
       "  Category of Product/Service Being Purchased - Level 1\\n(GICS, NAICS or other industry classification systems)\n",
       "0              Nonresidential maintenance and repair                                                           \n",
       "1                             Adhesive manufacturing                                                           "
      ]
     },
     "execution_count": 65,
     "metadata": {},
     "output_type": "execute_result"
    }
   ],
   "source": [
    "data_df.head(2)"
   ]
  },
  {
   "cell_type": "code",
   "execution_count": 66,
   "id": "dddd5ce8-ef34-438b-b78b-9073c0749f7a",
   "metadata": {},
   "outputs": [],
   "source": [
    "# Load the embeddings\n",
    "# Note: We have specified the `model_name` as `titan-v2` to choose `Titan-V2` model. \n",
    "# Use the same value across all the code cells in this section.\n",
    "\n",
    "reference_df = pd.read_csv(files[\"embeddings\"])\n",
    "index = load_embedding(reference_df, label_embedding=\"embedding\", model_name=model_name)\n",
    "faiss.write_index(index, \"embeddings.index\")"
   ]
  },
  {
   "cell_type": "code",
   "execution_count": 68,
   "id": "73477df3-0e4e-42a8-82e2-c6ac60fcea37",
   "metadata": {},
   "outputs": [],
   "source": [
    "# Prepare label\n",
    "data_df[\"label\"] = data_df.apply(lambda x: \",\".join(x), axis=1)"
   ]
  },
  {
   "cell_type": "code",
   "execution_count": 69,
   "id": "aacb4891-fad3-410f-a44d-282b4f0c474f",
   "metadata": {},
   "outputs": [
    {
     "data": {
      "text/html": [
       "<div>\n",
       "<style scoped>\n",
       "    .dataframe tbody tr th:only-of-type {\n",
       "        vertical-align: middle;\n",
       "    }\n",
       "\n",
       "    .dataframe tbody tr th {\n",
       "        vertical-align: top;\n",
       "    }\n",
       "\n",
       "    .dataframe thead th {\n",
       "        text-align: right;\n",
       "    }\n",
       "</style>\n",
       "<table border=\"1\" class=\"dataframe\">\n",
       "  <thead>\n",
       "    <tr style=\"text-align: right;\">\n",
       "      <th></th>\n",
       "      <th>Category of Product/Service Being Purchased - Level 1\\n(GICS, NAICS or other industry classification systems)</th>\n",
       "      <th>label</th>\n",
       "    </tr>\n",
       "  </thead>\n",
       "  <tbody>\n",
       "    <tr>\n",
       "      <th>0</th>\n",
       "      <td>Nonresidential maintenance and repair</td>\n",
       "      <td>Nonresidential maintenance and repair</td>\n",
       "    </tr>\n",
       "    <tr>\n",
       "      <th>1</th>\n",
       "      <td>Adhesive manufacturing</td>\n",
       "      <td>Adhesive manufacturing</td>\n",
       "    </tr>\n",
       "  </tbody>\n",
       "</table>\n",
       "</div>"
      ],
      "text/plain": [
       "  Category of Product/Service Being Purchased - Level 1\\n(GICS, NAICS or other industry classification systems)  \\\n",
       "0              Nonresidential maintenance and repair                                                              \n",
       "1                             Adhesive manufacturing                                                              \n",
       "\n",
       "                                   label  \n",
       "0  Nonresidential maintenance and repair  \n",
       "1                 Adhesive manufacturing  "
      ]
     },
     "execution_count": 69,
     "metadata": {},
     "output_type": "execute_result"
    }
   ],
   "source": [
    "data_df.head(2)"
   ]
  },
  {
   "cell_type": "code",
   "execution_count": 70,
   "id": "22c0061e-8d89-4709-b1b5-8033fdc5a11b",
   "metadata": {},
   "outputs": [
    {
     "name": "stderr",
     "output_type": "stream",
     "text": [
      "Embedding Labels: 100%|██████████| 2/2 [00:00<00:00,  2.56label/s]"
     ]
    },
    {
     "name": "stdout",
     "output_type": "stream",
     "text": [
      "All labels embedded and CSV updated.\n"
     ]
    },
    {
     "name": "stderr",
     "output_type": "stream",
     "text": [
      "\n"
     ]
    }
   ],
   "source": [
    "# Embed all the labels using the specified model\n",
    "embedded_df = embed_labels(data_df, files[\"embedded_data\"], model_name=model_name)"
   ]
  },
  {
   "cell_type": "code",
   "execution_count": 71,
   "id": "34d807e2-32fb-4792-a9af-28155af7b807",
   "metadata": {},
   "outputs": [
    {
     "data": {
      "text/html": [
       "<div>\n",
       "<style scoped>\n",
       "    .dataframe tbody tr th:only-of-type {\n",
       "        vertical-align: middle;\n",
       "    }\n",
       "\n",
       "    .dataframe tbody tr th {\n",
       "        vertical-align: top;\n",
       "    }\n",
       "\n",
       "    .dataframe thead th {\n",
       "        text-align: right;\n",
       "    }\n",
       "</style>\n",
       "<table border=\"1\" class=\"dataframe\">\n",
       "  <thead>\n",
       "    <tr style=\"text-align: right;\">\n",
       "      <th></th>\n",
       "      <th>label</th>\n",
       "      <th>index_ids</th>\n",
       "      <th>Category of Product/Service Being Purchased - Level 1\\n(GICS, NAICS or other industry classification systems)</th>\n",
       "      <th>embedding</th>\n",
       "    </tr>\n",
       "  </thead>\n",
       "  <tbody>\n",
       "    <tr>\n",
       "      <th>0</th>\n",
       "      <td>Adhesive manufacturing</td>\n",
       "      <td>[1]</td>\n",
       "      <td>Adhesive manufacturing</td>\n",
       "      <td>[-1.4375, 3.234375, -1.625, 0.38476562, -1.468...</td>\n",
       "    </tr>\n",
       "    <tr>\n",
       "      <th>1</th>\n",
       "      <td>Nonresidential maintenance and repair</td>\n",
       "      <td>[0]</td>\n",
       "      <td>Nonresidential maintenance and repair</td>\n",
       "      <td>[-1.6875, 1.328125, 0.52734375, 0.5703125, 1.6...</td>\n",
       "    </tr>\n",
       "  </tbody>\n",
       "</table>\n",
       "</div>"
      ],
      "text/plain": [
       "                                   label index_ids  \\\n",
       "0                 Adhesive manufacturing       [1]   \n",
       "1  Nonresidential maintenance and repair       [0]   \n",
       "\n",
       "  Category of Product/Service Being Purchased - Level 1\\n(GICS, NAICS or other industry classification systems)  \\\n",
       "0                             Adhesive manufacturing                                                              \n",
       "1              Nonresidential maintenance and repair                                                              \n",
       "\n",
       "                                           embedding  \n",
       "0  [-1.4375, 3.234375, -1.625, 0.38476562, -1.468...  \n",
       "1  [-1.6875, 1.328125, 0.52734375, 0.5703125, 1.6...  "
      ]
     },
     "execution_count": 71,
     "metadata": {},
     "output_type": "execute_result"
    }
   ],
   "source": [
    "embedded_df.head(2)"
   ]
  },
  {
   "cell_type": "code",
   "execution_count": 72,
   "id": "71e70988-3c18-4a87-9c4f-3b4f246f6366",
   "metadata": {},
   "outputs": [
    {
     "data": {
      "text/html": [
       "<div>\n",
       "<style scoped>\n",
       "    .dataframe tbody tr th:only-of-type {\n",
       "        vertical-align: middle;\n",
       "    }\n",
       "\n",
       "    .dataframe tbody tr th {\n",
       "        vertical-align: top;\n",
       "    }\n",
       "\n",
       "    .dataframe thead th {\n",
       "        text-align: right;\n",
       "    }\n",
       "</style>\n",
       "<table border=\"1\" class=\"dataframe\">\n",
       "  <thead>\n",
       "    <tr style=\"text-align: right;\">\n",
       "      <th></th>\n",
       "      <th>label</th>\n",
       "      <th>index_ids</th>\n",
       "      <th>Category of Product/Service Being Purchased - Level 1\\n(GICS, NAICS or other industry classification systems)</th>\n",
       "      <th>embedding</th>\n",
       "    </tr>\n",
       "  </thead>\n",
       "  <tbody>\n",
       "    <tr>\n",
       "      <th>0</th>\n",
       "      <td>Adhesive manufacturing</td>\n",
       "      <td>[1]</td>\n",
       "      <td>Adhesive manufacturing</td>\n",
       "      <td>[-1.4375, 3.234375, -1.625, 0.38476562, -1.468...</td>\n",
       "    </tr>\n",
       "    <tr>\n",
       "      <th>1</th>\n",
       "      <td>Nonresidential maintenance and repair</td>\n",
       "      <td>[0]</td>\n",
       "      <td>Nonresidential maintenance and repair</td>\n",
       "      <td>[-1.6875, 1.328125, 0.52734375, 0.5703125, 1.6...</td>\n",
       "    </tr>\n",
       "  </tbody>\n",
       "</table>\n",
       "</div>"
      ],
      "text/plain": [
       "                                   label index_ids  \\\n",
       "0                 Adhesive manufacturing       [1]   \n",
       "1  Nonresidential maintenance and repair       [0]   \n",
       "\n",
       "  Category of Product/Service Being Purchased - Level 1\\n(GICS, NAICS or other industry classification systems)  \\\n",
       "0                             Adhesive manufacturing                                                              \n",
       "1              Nonresidential maintenance and repair                                                              \n",
       "\n",
       "                                           embedding  \n",
       "0  [-1.4375, 3.234375, -1.625, 0.38476562, -1.468...  \n",
       "1  [-1.6875, 1.328125, 0.52734375, 0.5703125, 1.6...  "
      ]
     },
     "execution_count": 72,
     "metadata": {},
     "output_type": "execute_result"
    }
   ],
   "source": [
    "synthea_embedded_label = pd.read_csv(files[\"embedded_data\"])\n",
    "synthea_embedded_label.head(2)"
   ]
  },
  {
   "cell_type": "code",
   "execution_count": 73,
   "id": "692dfc7b-5b9d-4c9d-9a02-4a34bc60b157",
   "metadata": {},
   "outputs": [],
   "source": [
    "D, I = df_search(synthea_embedded_label, index)"
   ]
  },
  {
   "cell_type": "code",
   "execution_count": 74,
   "id": "294b3fbc-7923-4a88-9282-1d8ee8100b1b",
   "metadata": {},
   "outputs": [
    {
     "name": "stdout",
     "output_type": "stream",
     "text": [
      "👉 2 rows remain...\n",
      "👉 1 rows remain...\n"
     ]
    }
   ],
   "source": [
    "entity_relation_match_cluster(\n",
    "    input_df=synthea_embedded_label,\n",
    "    attributes=columns_to_use,\n",
    "    I=I,\n",
    "    refernece_df=reference_df,\n",
    "    label=\"label\"\n",
    ")"
   ]
  },
  {
   "cell_type": "code",
   "execution_count": 98,
   "id": "18f19c36-5f44-4abb-ade3-e86843ccdcf5",
   "metadata": {},
   "outputs": [],
   "source": [
    "clusters = compute_cluster(synthea_embedded_label)\n",
    "final_html = generate_report_for_cluster(synthea_embedded_label, clusters)\n",
    "# print(final_html)"
   ]
  },
  {
   "cell_type": "code",
   "execution_count": null,
   "id": "86e71421-352c-45ea-ada1-2e1f452a56b6",
   "metadata": {},
   "outputs": [],
   "source": [
    "filename = files[\"data\"].split(\"/\")[-1].split(\".\")[0]\n",
    "\n",
    "OUTPUT_DIR = f\"./output/ecoinvent/{output_model_name}/\"\n",
    "os.makedirs(OUTPUT_DIR, exist_ok=True)\n",
    "\n",
    "with open(f\"{OUTPUT_DIR}/{filename}_ecoinvent_{output_model_name}.html\", \"w\") as file:\n",
    "    file.write(final_html)"
   ]
  },
  {
   "cell_type": "markdown",
   "id": "937f94e7-4d54-4388-9659-ce787a0978b3",
   "metadata": {
    "jp-MarkdownHeadingCollapsed": true,
    "tags": []
   },
   "source": [
    "### Naics"
   ]
  },
  {
   "cell_type": "code",
   "execution_count": 82,
   "id": "b0e48bd0-9ea9-4ef2-995a-92890ec5d9b4",
   "metadata": {
    "tags": []
   },
   "outputs": [],
   "source": [
    "# Update `data`, `embedded_data`, and `output` fields based on input\n",
    "\n",
    "files = {\n",
    "    \"vocabulary\": f's3://esgflo-ml-test-scope3/naicsdb/SupplyChainGHGEmissionFactors_v1.2_NAICS_CO2e_USD2021.csv',\n",
    "    \"embeddings\": f's3://esgflo-ml-test-scope3/naicsdb/{output_model_name}_embeddings_output.csv',\n",
    "    \n",
    "    \"data\": f's3://esgflo-ml-test-scope3/20240701/20240620_LZB_Spend_based_suppliers.csv',\n",
    "    \"embedded_data\": f's3://esgflo-ml-test-scope3/20240701/20240620_LZB_Spend_based_suppliers_embedded.csv',\n",
    "    \"output\": f's3://esgflo-ml-test-scope3/20240701/20240620_LZB_Spend_based_suppliers_output.csv',\n",
    "}"
   ]
  },
  {
   "cell_type": "code",
   "execution_count": 83,
   "id": "95f64477-a0c0-48e4-879c-5df494a94f3d",
   "metadata": {
    "tags": []
   },
   "outputs": [
    {
     "name": "stdout",
     "output_type": "stream",
     "text": [
      "Vocabulary size: 1016\n"
     ]
    }
   ],
   "source": [
    "vocabulary_df = pd.read_csv(files[\"vocabulary\"])\n",
    "print(f\"Vocabulary size: {vocabulary_df.shape[0]}\")"
   ]
  },
  {
   "cell_type": "code",
   "execution_count": 84,
   "id": "ee47cb1d-1805-4fce-9bed-38b2ee6a2160",
   "metadata": {
    "tags": []
   },
   "outputs": [
    {
     "name": "stdout",
     "output_type": "stream",
     "text": [
      "Size of the data file: 2\n"
     ]
    }
   ],
   "source": [
    "# Read the data file\n",
    "data_df = pd.read_csv(files[\"data\"])\n",
    "columns_to_use = data_df.columns.values\n",
    "\n",
    "# Select a subset of columns\n",
    "# columns_to_use = []\n",
    "\n",
    "data_df = data_df[columns_to_use].drop_duplicates() # Remove the duplicate rows\n",
    "\n",
    "# In case, you need to run a subset of the rows. Otherwise, comment the below line.\n",
    "data_df = data_df.iloc[:2]\n",
    "\n",
    "print(f\"Size of the data file: {data_df.shape[0]}\")"
   ]
  },
  {
   "cell_type": "code",
   "execution_count": 85,
   "id": "4560f7c5-2e21-4fb7-ac3c-98a5bd2c9cbd",
   "metadata": {},
   "outputs": [
    {
     "data": {
      "text/html": [
       "<div>\n",
       "<style scoped>\n",
       "    .dataframe tbody tr th:only-of-type {\n",
       "        vertical-align: middle;\n",
       "    }\n",
       "\n",
       "    .dataframe tbody tr th {\n",
       "        vertical-align: top;\n",
       "    }\n",
       "\n",
       "    .dataframe thead th {\n",
       "        text-align: right;\n",
       "    }\n",
       "</style>\n",
       "<table border=\"1\" class=\"dataframe\">\n",
       "  <thead>\n",
       "    <tr style=\"text-align: right;\">\n",
       "      <th></th>\n",
       "      <th>Category of Product/Service Being Purchased - Level 1\\n(GICS, NAICS or other industry classification systems)</th>\n",
       "    </tr>\n",
       "  </thead>\n",
       "  <tbody>\n",
       "    <tr>\n",
       "      <th>0</th>\n",
       "      <td>Nonresidential maintenance and repair</td>\n",
       "    </tr>\n",
       "    <tr>\n",
       "      <th>1</th>\n",
       "      <td>Adhesive manufacturing</td>\n",
       "    </tr>\n",
       "  </tbody>\n",
       "</table>\n",
       "</div>"
      ],
      "text/plain": [
       "  Category of Product/Service Being Purchased - Level 1\\n(GICS, NAICS or other industry classification systems)\n",
       "0              Nonresidential maintenance and repair                                                           \n",
       "1                             Adhesive manufacturing                                                           "
      ]
     },
     "execution_count": 85,
     "metadata": {},
     "output_type": "execute_result"
    }
   ],
   "source": [
    "data_df.head(2)"
   ]
  },
  {
   "cell_type": "code",
   "execution_count": 86,
   "id": "ddbcfef9-6951-46d7-b502-1a0ea86a5626",
   "metadata": {
    "tags": []
   },
   "outputs": [],
   "source": [
    "# Load the embeddings\n",
    "# Note: We have specified the `model_name` as `titan-v2` to choose `Titan-V2` model. \n",
    "# Use the same value across all the code cells in this section.\n",
    "\n",
    "reference_df = pd.read_csv(files[\"embeddings\"])\n",
    "index = load_embedding(reference_df, label_embedding=\"embedding\", model_name=model_name)\n",
    "faiss.write_index(index, \"embeddings.index\")"
   ]
  },
  {
   "cell_type": "code",
   "execution_count": 87,
   "id": "ced78c68-55fc-4171-9587-bba0d3af7ebc",
   "metadata": {
    "tags": []
   },
   "outputs": [],
   "source": [
    "# Prepare label\n",
    "data_df[\"label\"] = data_df.apply(lambda x: \",\".join(x), axis=1)"
   ]
  },
  {
   "cell_type": "code",
   "execution_count": 88,
   "id": "485660fa-dc27-4a2f-822d-2c4d2f7cbf58",
   "metadata": {
    "tags": []
   },
   "outputs": [
    {
     "data": {
      "text/html": [
       "<div>\n",
       "<style scoped>\n",
       "    .dataframe tbody tr th:only-of-type {\n",
       "        vertical-align: middle;\n",
       "    }\n",
       "\n",
       "    .dataframe tbody tr th {\n",
       "        vertical-align: top;\n",
       "    }\n",
       "\n",
       "    .dataframe thead th {\n",
       "        text-align: right;\n",
       "    }\n",
       "</style>\n",
       "<table border=\"1\" class=\"dataframe\">\n",
       "  <thead>\n",
       "    <tr style=\"text-align: right;\">\n",
       "      <th></th>\n",
       "      <th>Category of Product/Service Being Purchased - Level 1\\n(GICS, NAICS or other industry classification systems)</th>\n",
       "      <th>label</th>\n",
       "    </tr>\n",
       "  </thead>\n",
       "  <tbody>\n",
       "    <tr>\n",
       "      <th>0</th>\n",
       "      <td>Nonresidential maintenance and repair</td>\n",
       "      <td>Nonresidential maintenance and repair</td>\n",
       "    </tr>\n",
       "    <tr>\n",
       "      <th>1</th>\n",
       "      <td>Adhesive manufacturing</td>\n",
       "      <td>Adhesive manufacturing</td>\n",
       "    </tr>\n",
       "  </tbody>\n",
       "</table>\n",
       "</div>"
      ],
      "text/plain": [
       "  Category of Product/Service Being Purchased - Level 1\\n(GICS, NAICS or other industry classification systems)  \\\n",
       "0              Nonresidential maintenance and repair                                                              \n",
       "1                             Adhesive manufacturing                                                              \n",
       "\n",
       "                                   label  \n",
       "0  Nonresidential maintenance and repair  \n",
       "1                 Adhesive manufacturing  "
      ]
     },
     "execution_count": 88,
     "metadata": {},
     "output_type": "execute_result"
    }
   ],
   "source": [
    "data_df.head(2)"
   ]
  },
  {
   "cell_type": "code",
   "execution_count": 89,
   "id": "6c44850f-dc62-4892-83a0-fd01be0cc4dc",
   "metadata": {
    "tags": []
   },
   "outputs": [
    {
     "name": "stdout",
     "output_type": "stream",
     "text": [
      "All labels already embedded.\n"
     ]
    }
   ],
   "source": [
    "# Embed all the labels using the specified model\n",
    "embedded_df = embed_labels(data_df, files[\"embedded_data\"], model_name=model_name)"
   ]
  },
  {
   "cell_type": "code",
   "execution_count": 90,
   "id": "f0d35a84-d45d-4746-aad0-b7bd9c358c90",
   "metadata": {
    "tags": []
   },
   "outputs": [
    {
     "data": {
      "text/html": [
       "<div>\n",
       "<style scoped>\n",
       "    .dataframe tbody tr th:only-of-type {\n",
       "        vertical-align: middle;\n",
       "    }\n",
       "\n",
       "    .dataframe tbody tr th {\n",
       "        vertical-align: top;\n",
       "    }\n",
       "\n",
       "    .dataframe thead th {\n",
       "        text-align: right;\n",
       "    }\n",
       "</style>\n",
       "<table border=\"1\" class=\"dataframe\">\n",
       "  <thead>\n",
       "    <tr style=\"text-align: right;\">\n",
       "      <th></th>\n",
       "      <th>label</th>\n",
       "      <th>index_ids</th>\n",
       "      <th>Category of Product/Service Being Purchased - Level 1\\n(GICS, NAICS or other industry classification systems)</th>\n",
       "      <th>embedding</th>\n",
       "    </tr>\n",
       "  </thead>\n",
       "  <tbody>\n",
       "    <tr>\n",
       "      <th>0</th>\n",
       "      <td>Adhesive manufacturing</td>\n",
       "      <td>[1]</td>\n",
       "      <td>Adhesive manufacturing</td>\n",
       "      <td>[-1.4375, 3.234375, -1.625, 0.38476562, -1.468...</td>\n",
       "    </tr>\n",
       "    <tr>\n",
       "      <th>1</th>\n",
       "      <td>Nonresidential maintenance and repair</td>\n",
       "      <td>[0]</td>\n",
       "      <td>Nonresidential maintenance and repair</td>\n",
       "      <td>[-1.6875, 1.328125, 0.52734375, 0.5703125, 1.6...</td>\n",
       "    </tr>\n",
       "  </tbody>\n",
       "</table>\n",
       "</div>"
      ],
      "text/plain": [
       "                                   label index_ids  \\\n",
       "0                 Adhesive manufacturing       [1]   \n",
       "1  Nonresidential maintenance and repair       [0]   \n",
       "\n",
       "  Category of Product/Service Being Purchased - Level 1\\n(GICS, NAICS or other industry classification systems)  \\\n",
       "0                             Adhesive manufacturing                                                              \n",
       "1              Nonresidential maintenance and repair                                                              \n",
       "\n",
       "                                           embedding  \n",
       "0  [-1.4375, 3.234375, -1.625, 0.38476562, -1.468...  \n",
       "1  [-1.6875, 1.328125, 0.52734375, 0.5703125, 1.6...  "
      ]
     },
     "execution_count": 90,
     "metadata": {},
     "output_type": "execute_result"
    }
   ],
   "source": [
    "embedded_df.head(2)"
   ]
  },
  {
   "cell_type": "code",
   "execution_count": 91,
   "id": "4c0f3b62-ee7a-4e6e-b58d-b094a215bc8b",
   "metadata": {
    "tags": []
   },
   "outputs": [
    {
     "data": {
      "text/html": [
       "<div>\n",
       "<style scoped>\n",
       "    .dataframe tbody tr th:only-of-type {\n",
       "        vertical-align: middle;\n",
       "    }\n",
       "\n",
       "    .dataframe tbody tr th {\n",
       "        vertical-align: top;\n",
       "    }\n",
       "\n",
       "    .dataframe thead th {\n",
       "        text-align: right;\n",
       "    }\n",
       "</style>\n",
       "<table border=\"1\" class=\"dataframe\">\n",
       "  <thead>\n",
       "    <tr style=\"text-align: right;\">\n",
       "      <th></th>\n",
       "      <th>label</th>\n",
       "      <th>index_ids</th>\n",
       "      <th>Category of Product/Service Being Purchased - Level 1\\n(GICS, NAICS or other industry classification systems)</th>\n",
       "      <th>embedding</th>\n",
       "    </tr>\n",
       "  </thead>\n",
       "  <tbody>\n",
       "    <tr>\n",
       "      <th>0</th>\n",
       "      <td>Adhesive manufacturing</td>\n",
       "      <td>[1]</td>\n",
       "      <td>Adhesive manufacturing</td>\n",
       "      <td>[-1.4375, 3.234375, -1.625, 0.38476562, -1.468...</td>\n",
       "    </tr>\n",
       "    <tr>\n",
       "      <th>1</th>\n",
       "      <td>Nonresidential maintenance and repair</td>\n",
       "      <td>[0]</td>\n",
       "      <td>Nonresidential maintenance and repair</td>\n",
       "      <td>[-1.6875, 1.328125, 0.52734375, 0.5703125, 1.6...</td>\n",
       "    </tr>\n",
       "  </tbody>\n",
       "</table>\n",
       "</div>"
      ],
      "text/plain": [
       "                                   label index_ids  \\\n",
       "0                 Adhesive manufacturing       [1]   \n",
       "1  Nonresidential maintenance and repair       [0]   \n",
       "\n",
       "  Category of Product/Service Being Purchased - Level 1\\n(GICS, NAICS or other industry classification systems)  \\\n",
       "0                             Adhesive manufacturing                                                              \n",
       "1              Nonresidential maintenance and repair                                                              \n",
       "\n",
       "                                           embedding  \n",
       "0  [-1.4375, 3.234375, -1.625, 0.38476562, -1.468...  \n",
       "1  [-1.6875, 1.328125, 0.52734375, 0.5703125, 1.6...  "
      ]
     },
     "execution_count": 91,
     "metadata": {},
     "output_type": "execute_result"
    }
   ],
   "source": [
    "synthea_embedded_label = pd.read_csv(files[\"embedded_data\"])\n",
    "synthea_embedded_label.head(2)"
   ]
  },
  {
   "cell_type": "code",
   "execution_count": 92,
   "id": "2603cac0-b3dd-4b55-a8ce-2be75b749b08",
   "metadata": {
    "tags": []
   },
   "outputs": [],
   "source": [
    "D, I = df_search(synthea_embedded_label, index)"
   ]
  },
  {
   "cell_type": "code",
   "execution_count": 93,
   "id": "dad7fd7c-55d3-44e8-b41d-c971f7b3ba77",
   "metadata": {
    "tags": []
   },
   "outputs": [
    {
     "name": "stdout",
     "output_type": "stream",
     "text": [
      "👉 2 rows remain...\n",
      "👉 1 rows remain...\n"
     ]
    }
   ],
   "source": [
    "entity_relation_match_cluster(\n",
    "    input_df=synthea_embedded_label,\n",
    "    attributes=columns_to_use,\n",
    "    I=I,\n",
    "    refernece_df=reference_df,\n",
    "    label=\"label\"\n",
    ")"
   ]
  },
  {
   "cell_type": "code",
   "execution_count": 97,
   "id": "21cb89c3-2a0d-4643-b7ab-02170ceeda55",
   "metadata": {
    "tags": []
   },
   "outputs": [],
   "source": [
    "clusters = compute_cluster(synthea_embedded_label)\n",
    "final_html = generate_report_for_cluster(synthea_embedded_label, clusters)\n",
    "# print(final_html)"
   ]
  },
  {
   "cell_type": "code",
   "execution_count": null,
   "id": "76ae405c-b40d-46e2-b927-cdcf94941a81",
   "metadata": {},
   "outputs": [],
   "source": [
    "filename = files[\"data\"].split(\"/\")[-1].split(\".\")[0]\n",
    "\n",
    "OUTPUT_DIR = f\"./output/naics/{output_model_name}/\"\n",
    "os.makedirs(OUTPUT_DIR, exist_ok=True)\n",
    "\n",
    "with open(f\"{OUTPUT_DIR}/{filename}_naics_{output_model_name}.html\", \"w\") as file:\n",
    "    file.write(final_html)"
   ]
  },
  {
   "cell_type": "markdown",
   "id": "4f6f94c4-062a-4058-8c23-a697810842dd",
   "metadata": {},
   "source": [
    "## Titan G1"
   ]
  },
  {
   "cell_type": "code",
   "execution_count": 131,
   "id": "43af5f08-07a4-4c8d-92c1-00895f013e3d",
   "metadata": {},
   "outputs": [],
   "source": [
    "model_name = \"titan-g1\"\n",
    "output_model_name = \"titan_g1\""
   ]
  },
  {
   "cell_type": "markdown",
   "id": "6a8bf57c-53ec-4830-9c23-da0389f5166b",
   "metadata": {
    "jp-MarkdownHeadingCollapsed": true,
    "tags": []
   },
   "source": [
    "### Ecoinvent"
   ]
  },
  {
   "cell_type": "code",
   "execution_count": 111,
   "id": "4347d776-0124-403b-9132-57de90c8b94a",
   "metadata": {
    "tags": []
   },
   "outputs": [],
   "source": [
    "# Update `data`, `embedded_data`, and `output` fields based on input\n",
    "\n",
    "files = {\n",
    "    \"vocabulary\": f's3://esgflo-ml-test-scope3/ecoinventdb/20240201_scope3ecoinventdata.csv',\n",
    "    \"embeddings\": f's3://esgflo-ml-test-scope3/ecoinventdb/{output_model_name}_embeddings_output.csv',\n",
    "    \n",
    "    \"data\": f's3://esgflo-ml-test-scope3/20240701/20240620_LZB_Spend_based_suppliers.csv',\n",
    "    \"embedded_data\": f's3://esgflo-ml-test-scope3/20240701/20240620_LZB_Spend_based_suppliers_embedded.csv',\n",
    "    \"output\": f's3://esgflo-ml-test-scope3/20240701/20240620_LZB_Spend_based_suppliers_output.csv',\n",
    "}"
   ]
  },
  {
   "cell_type": "code",
   "execution_count": 112,
   "id": "a5d6c282-33a4-41e0-9ed5-9a652e361b87",
   "metadata": {
    "tags": []
   },
   "outputs": [
    {
     "name": "stdout",
     "output_type": "stream",
     "text": [
      "Vocabulary size: 20938\n"
     ]
    }
   ],
   "source": [
    "vocabulary_df = pd.read_csv(files[\"vocabulary\"])\n",
    "print(f\"Vocabulary size: {vocabulary_df.shape[0]}\")"
   ]
  },
  {
   "cell_type": "code",
   "execution_count": 113,
   "id": "057939bb-f3e2-4922-8d7a-255a9abe67c1",
   "metadata": {
    "tags": []
   },
   "outputs": [
    {
     "name": "stdout",
     "output_type": "stream",
     "text": [
      "Size of the data file: 2\n"
     ]
    }
   ],
   "source": [
    "# Read the data file\n",
    "data_df = pd.read_csv(files[\"data\"])\n",
    "columns_to_use = data_df.columns.values\n",
    "\n",
    "# Select a subset of columns\n",
    "# columns_to_use = []\n",
    "\n",
    "data_df = data_df[columns_to_use].drop_duplicates() # Remove the duplicate rows\n",
    "\n",
    "# In case, you need to run a subset of the rows. Otherwise, comment the below line.\n",
    "data_df = data_df.iloc[:2]\n",
    "\n",
    "print(f\"Size of the data file: {data_df.shape[0]}\")"
   ]
  },
  {
   "cell_type": "code",
   "execution_count": 114,
   "id": "39bba766-5bc3-4e0c-ac96-c812c1e13f8e",
   "metadata": {},
   "outputs": [
    {
     "data": {
      "text/html": [
       "<div>\n",
       "<style scoped>\n",
       "    .dataframe tbody tr th:only-of-type {\n",
       "        vertical-align: middle;\n",
       "    }\n",
       "\n",
       "    .dataframe tbody tr th {\n",
       "        vertical-align: top;\n",
       "    }\n",
       "\n",
       "    .dataframe thead th {\n",
       "        text-align: right;\n",
       "    }\n",
       "</style>\n",
       "<table border=\"1\" class=\"dataframe\">\n",
       "  <thead>\n",
       "    <tr style=\"text-align: right;\">\n",
       "      <th></th>\n",
       "      <th>Category of Product/Service Being Purchased - Level 1\\n(GICS, NAICS or other industry classification systems)</th>\n",
       "    </tr>\n",
       "  </thead>\n",
       "  <tbody>\n",
       "    <tr>\n",
       "      <th>0</th>\n",
       "      <td>Nonresidential maintenance and repair</td>\n",
       "    </tr>\n",
       "    <tr>\n",
       "      <th>1</th>\n",
       "      <td>Adhesive manufacturing</td>\n",
       "    </tr>\n",
       "  </tbody>\n",
       "</table>\n",
       "</div>"
      ],
      "text/plain": [
       "  Category of Product/Service Being Purchased - Level 1\\n(GICS, NAICS or other industry classification systems)\n",
       "0              Nonresidential maintenance and repair                                                           \n",
       "1                             Adhesive manufacturing                                                           "
      ]
     },
     "execution_count": 114,
     "metadata": {},
     "output_type": "execute_result"
    }
   ],
   "source": [
    "data_df.head(2)"
   ]
  },
  {
   "cell_type": "code",
   "execution_count": 115,
   "id": "361a81cd-a929-4da7-b299-b1ee5f7ac4f3",
   "metadata": {
    "tags": []
   },
   "outputs": [],
   "source": [
    "# Load the embeddings\n",
    "# Note: We have specified the `model_name` as `titan-v2` to choose `Titan-V2` model. \n",
    "# Use the same value across all the code cells in this section.\n",
    "\n",
    "reference_df = pd.read_csv(files[\"embeddings\"])\n",
    "index = load_embedding(reference_df, label_embedding=\"embedding\", model_name=model_name)\n",
    "faiss.write_index(index, \"embeddings.index\")"
   ]
  },
  {
   "cell_type": "code",
   "execution_count": 116,
   "id": "db0ca549-567e-4405-b107-2be3e2ff9857",
   "metadata": {
    "tags": []
   },
   "outputs": [],
   "source": [
    "# Prepare label\n",
    "data_df[\"label\"] = data_df.apply(lambda x: \",\".join(x), axis=1)"
   ]
  },
  {
   "cell_type": "code",
   "execution_count": 117,
   "id": "e34570a0-b874-4841-84c6-b47beefcd87f",
   "metadata": {
    "tags": []
   },
   "outputs": [
    {
     "data": {
      "text/html": [
       "<div>\n",
       "<style scoped>\n",
       "    .dataframe tbody tr th:only-of-type {\n",
       "        vertical-align: middle;\n",
       "    }\n",
       "\n",
       "    .dataframe tbody tr th {\n",
       "        vertical-align: top;\n",
       "    }\n",
       "\n",
       "    .dataframe thead th {\n",
       "        text-align: right;\n",
       "    }\n",
       "</style>\n",
       "<table border=\"1\" class=\"dataframe\">\n",
       "  <thead>\n",
       "    <tr style=\"text-align: right;\">\n",
       "      <th></th>\n",
       "      <th>Category of Product/Service Being Purchased - Level 1\\n(GICS, NAICS or other industry classification systems)</th>\n",
       "      <th>label</th>\n",
       "    </tr>\n",
       "  </thead>\n",
       "  <tbody>\n",
       "    <tr>\n",
       "      <th>0</th>\n",
       "      <td>Nonresidential maintenance and repair</td>\n",
       "      <td>Nonresidential maintenance and repair</td>\n",
       "    </tr>\n",
       "    <tr>\n",
       "      <th>1</th>\n",
       "      <td>Adhesive manufacturing</td>\n",
       "      <td>Adhesive manufacturing</td>\n",
       "    </tr>\n",
       "  </tbody>\n",
       "</table>\n",
       "</div>"
      ],
      "text/plain": [
       "  Category of Product/Service Being Purchased - Level 1\\n(GICS, NAICS or other industry classification systems)  \\\n",
       "0              Nonresidential maintenance and repair                                                              \n",
       "1                             Adhesive manufacturing                                                              \n",
       "\n",
       "                                   label  \n",
       "0  Nonresidential maintenance and repair  \n",
       "1                 Adhesive manufacturing  "
      ]
     },
     "execution_count": 117,
     "metadata": {},
     "output_type": "execute_result"
    }
   ],
   "source": [
    "data_df.head(2)"
   ]
  },
  {
   "cell_type": "code",
   "execution_count": 118,
   "id": "34217e73-9450-4609-a156-ed9f8d30b934",
   "metadata": {
    "tags": []
   },
   "outputs": [
    {
     "name": "stderr",
     "output_type": "stream",
     "text": [
      "Embedding Labels: 100%|██████████| 2/2 [00:00<00:00,  2.63label/s]"
     ]
    },
    {
     "name": "stdout",
     "output_type": "stream",
     "text": [
      "All labels embedded and CSV updated.\n"
     ]
    },
    {
     "name": "stderr",
     "output_type": "stream",
     "text": [
      "\n"
     ]
    }
   ],
   "source": [
    "# Embed all the labels using the specified model\n",
    "embedded_df = embed_labels(data_df, files[\"embedded_data\"], model_name=model_name)"
   ]
  },
  {
   "cell_type": "code",
   "execution_count": 119,
   "id": "7eda4556-1f82-4966-824c-decefd464131",
   "metadata": {
    "tags": []
   },
   "outputs": [
    {
     "data": {
      "text/html": [
       "<div>\n",
       "<style scoped>\n",
       "    .dataframe tbody tr th:only-of-type {\n",
       "        vertical-align: middle;\n",
       "    }\n",
       "\n",
       "    .dataframe tbody tr th {\n",
       "        vertical-align: top;\n",
       "    }\n",
       "\n",
       "    .dataframe thead th {\n",
       "        text-align: right;\n",
       "    }\n",
       "</style>\n",
       "<table border=\"1\" class=\"dataframe\">\n",
       "  <thead>\n",
       "    <tr style=\"text-align: right;\">\n",
       "      <th></th>\n",
       "      <th>label</th>\n",
       "      <th>index_ids</th>\n",
       "      <th>Category of Product/Service Being Purchased - Level 1\\n(GICS, NAICS or other industry classification systems)</th>\n",
       "      <th>embedding</th>\n",
       "    </tr>\n",
       "  </thead>\n",
       "  <tbody>\n",
       "    <tr>\n",
       "      <th>0</th>\n",
       "      <td>Adhesive manufacturing</td>\n",
       "      <td>[1]</td>\n",
       "      <td>Adhesive manufacturing</td>\n",
       "      <td>[1.09375, -0.16210938, 0.20898438, 1.4140625, ...</td>\n",
       "    </tr>\n",
       "    <tr>\n",
       "      <th>1</th>\n",
       "      <td>Nonresidential maintenance and repair</td>\n",
       "      <td>[0]</td>\n",
       "      <td>Nonresidential maintenance and repair</td>\n",
       "      <td>[-0.21777344, -0.39453125, -0.32617188, 1.2343...</td>\n",
       "    </tr>\n",
       "  </tbody>\n",
       "</table>\n",
       "</div>"
      ],
      "text/plain": [
       "                                   label index_ids  \\\n",
       "0                 Adhesive manufacturing       [1]   \n",
       "1  Nonresidential maintenance and repair       [0]   \n",
       "\n",
       "  Category of Product/Service Being Purchased - Level 1\\n(GICS, NAICS or other industry classification systems)  \\\n",
       "0                             Adhesive manufacturing                                                              \n",
       "1              Nonresidential maintenance and repair                                                              \n",
       "\n",
       "                                           embedding  \n",
       "0  [1.09375, -0.16210938, 0.20898438, 1.4140625, ...  \n",
       "1  [-0.21777344, -0.39453125, -0.32617188, 1.2343...  "
      ]
     },
     "execution_count": 119,
     "metadata": {},
     "output_type": "execute_result"
    }
   ],
   "source": [
    "embedded_df.head(2)"
   ]
  },
  {
   "cell_type": "code",
   "execution_count": 120,
   "id": "171f85fd-930f-4f5b-bf30-c525d6f73f49",
   "metadata": {
    "tags": []
   },
   "outputs": [
    {
     "data": {
      "text/html": [
       "<div>\n",
       "<style scoped>\n",
       "    .dataframe tbody tr th:only-of-type {\n",
       "        vertical-align: middle;\n",
       "    }\n",
       "\n",
       "    .dataframe tbody tr th {\n",
       "        vertical-align: top;\n",
       "    }\n",
       "\n",
       "    .dataframe thead th {\n",
       "        text-align: right;\n",
       "    }\n",
       "</style>\n",
       "<table border=\"1\" class=\"dataframe\">\n",
       "  <thead>\n",
       "    <tr style=\"text-align: right;\">\n",
       "      <th></th>\n",
       "      <th>label</th>\n",
       "      <th>index_ids</th>\n",
       "      <th>Category of Product/Service Being Purchased - Level 1\\n(GICS, NAICS or other industry classification systems)</th>\n",
       "      <th>embedding</th>\n",
       "    </tr>\n",
       "  </thead>\n",
       "  <tbody>\n",
       "    <tr>\n",
       "      <th>0</th>\n",
       "      <td>Adhesive manufacturing</td>\n",
       "      <td>[1]</td>\n",
       "      <td>Adhesive manufacturing</td>\n",
       "      <td>[1.09375, -0.16210938, 0.20898438, 1.4140625, ...</td>\n",
       "    </tr>\n",
       "    <tr>\n",
       "      <th>1</th>\n",
       "      <td>Nonresidential maintenance and repair</td>\n",
       "      <td>[0]</td>\n",
       "      <td>Nonresidential maintenance and repair</td>\n",
       "      <td>[-0.21777344, -0.39453125, -0.32617188, 1.2343...</td>\n",
       "    </tr>\n",
       "  </tbody>\n",
       "</table>\n",
       "</div>"
      ],
      "text/plain": [
       "                                   label index_ids  \\\n",
       "0                 Adhesive manufacturing       [1]   \n",
       "1  Nonresidential maintenance and repair       [0]   \n",
       "\n",
       "  Category of Product/Service Being Purchased - Level 1\\n(GICS, NAICS or other industry classification systems)  \\\n",
       "0                             Adhesive manufacturing                                                              \n",
       "1              Nonresidential maintenance and repair                                                              \n",
       "\n",
       "                                           embedding  \n",
       "0  [1.09375, -0.16210938, 0.20898438, 1.4140625, ...  \n",
       "1  [-0.21777344, -0.39453125, -0.32617188, 1.2343...  "
      ]
     },
     "execution_count": 120,
     "metadata": {},
     "output_type": "execute_result"
    }
   ],
   "source": [
    "synthea_embedded_label = pd.read_csv(files[\"embedded_data\"])\n",
    "synthea_embedded_label.head(2)"
   ]
  },
  {
   "cell_type": "code",
   "execution_count": 121,
   "id": "06763e2c-ceb3-449d-98b4-6c99d5bbbad2",
   "metadata": {
    "tags": []
   },
   "outputs": [],
   "source": [
    "D, I = df_search(synthea_embedded_label, index)"
   ]
  },
  {
   "cell_type": "code",
   "execution_count": 122,
   "id": "7592cabc-1544-4361-ba89-93157b91b0d4",
   "metadata": {
    "tags": []
   },
   "outputs": [
    {
     "name": "stdout",
     "output_type": "stream",
     "text": [
      "👉 2 rows remain...\n",
      "👉 1 rows remain...\n"
     ]
    }
   ],
   "source": [
    "entity_relation_match_cluster(\n",
    "    input_df=synthea_embedded_label,\n",
    "    attributes=columns_to_use,\n",
    "    I=I,\n",
    "    refernece_df=reference_df,\n",
    "    label=\"label\"\n",
    ")"
   ]
  },
  {
   "cell_type": "code",
   "execution_count": 123,
   "id": "a65a78f6-6cf8-4e35-982c-e63aec16a761",
   "metadata": {
    "tags": []
   },
   "outputs": [],
   "source": [
    "clusters = compute_cluster(synthea_embedded_label)\n",
    "final_html = generate_report_for_cluster(synthea_embedded_label, clusters)\n",
    "# print(final_html)"
   ]
  },
  {
   "cell_type": "code",
   "execution_count": 124,
   "id": "d54cfdde-f06d-473d-96f9-273df2d2ce4c",
   "metadata": {},
   "outputs": [],
   "source": [
    "filename = files[\"data\"].split(\"/\")[-1].split(\".\")[0]\n",
    "\n",
    "OUTPUT_DIR = f\"./output/ecoinvent/{output_model_name}/\"\n",
    "os.makedirs(OUTPUT_DIR, exist_ok=True)\n",
    "\n",
    "with open(f\"{OUTPUT_DIR}/{filename}_ecoinvent_{output_model_name}.html\", \"w\") as file:\n",
    "    file.write(final_html)"
   ]
  },
  {
   "cell_type": "markdown",
   "id": "71f4a56a-5b52-418d-82f1-41326697e360",
   "metadata": {
    "jp-MarkdownHeadingCollapsed": true,
    "tags": []
   },
   "source": [
    "### Naics"
   ]
  },
  {
   "cell_type": "code",
   "execution_count": null,
   "id": "b953bdff-ad0f-44a2-8f0a-f0b8e07bb0f9",
   "metadata": {
    "tags": []
   },
   "outputs": [],
   "source": [
    "# Update `data`, `embedded_data`, and `output` fields based on input\n",
    "\n",
    "files = {\n",
    "    \"vocabulary\": f's3://esgflo-ml-test-scope3/naicsdb/SupplyChainGHGEmissionFactors_v1.2_NAICS_CO2e_USD2021.csv',\n",
    "    \"embeddings\": f's3://esgflo-ml-test-scope3/naicsdb/{output_model_name}_embeddings_output.csv',\n",
    "    \n",
    "    \"data\": f's3://esgflo-ml-test-scope3/20240701/20240620_LZB_Spend_based_suppliers.csv',\n",
    "    \"embedded_data\": f's3://esgflo-ml-test-scope3/20240701/20240620_LZB_Spend_based_suppliers_embedded.csv',\n",
    "    \"output\": f's3://esgflo-ml-test-scope3/20240701/20240620_LZB_Spend_based_suppliers_output.csv',\n",
    "}"
   ]
  },
  {
   "cell_type": "code",
   "execution_count": null,
   "id": "688307a6-a30b-4822-9454-5dc461c5f826",
   "metadata": {
    "tags": []
   },
   "outputs": [
    {
     "name": "stdout",
     "output_type": "stream",
     "text": [
      "Vocabulary size: 1016\n"
     ]
    }
   ],
   "source": [
    "vocabulary_df = pd.read_csv(files[\"vocabulary\"])\n",
    "print(f\"Vocabulary size: {vocabulary_df.shape[0]}\")"
   ]
  },
  {
   "cell_type": "code",
   "execution_count": null,
   "id": "9ff8dca8-fec3-4720-b473-2b16fab0c9a3",
   "metadata": {
    "tags": []
   },
   "outputs": [
    {
     "name": "stdout",
     "output_type": "stream",
     "text": [
      "Size of the data file: 2\n"
     ]
    }
   ],
   "source": [
    "# Read the data file\n",
    "data_df = pd.read_csv(files[\"data\"])\n",
    "columns_to_use = data_df.columns.values\n",
    "\n",
    "# Select a subset of columns\n",
    "# columns_to_use = []\n",
    "\n",
    "data_df = data_df[columns_to_use].drop_duplicates() # Remove the duplicate rows\n",
    "\n",
    "# In case, you need to run a subset of the rows. Otherwise, comment the below line.\n",
    "data_df = data_df.iloc[:2]\n",
    "\n",
    "print(f\"Size of the data file: {data_df.shape[0]}\")"
   ]
  },
  {
   "cell_type": "code",
   "execution_count": null,
   "id": "6f0ef8bf-3d89-42c8-8dc5-713a87d769e5",
   "metadata": {},
   "outputs": [
    {
     "data": {
      "text/html": [
       "<div>\n",
       "<style scoped>\n",
       "    .dataframe tbody tr th:only-of-type {\n",
       "        vertical-align: middle;\n",
       "    }\n",
       "\n",
       "    .dataframe tbody tr th {\n",
       "        vertical-align: top;\n",
       "    }\n",
       "\n",
       "    .dataframe thead th {\n",
       "        text-align: right;\n",
       "    }\n",
       "</style>\n",
       "<table border=\"1\" class=\"dataframe\">\n",
       "  <thead>\n",
       "    <tr style=\"text-align: right;\">\n",
       "      <th></th>\n",
       "      <th>Category of Product/Service Being Purchased - Level 1\\n(GICS, NAICS or other industry classification systems)</th>\n",
       "    </tr>\n",
       "  </thead>\n",
       "  <tbody>\n",
       "    <tr>\n",
       "      <th>0</th>\n",
       "      <td>Nonresidential maintenance and repair</td>\n",
       "    </tr>\n",
       "    <tr>\n",
       "      <th>1</th>\n",
       "      <td>Adhesive manufacturing</td>\n",
       "    </tr>\n",
       "  </tbody>\n",
       "</table>\n",
       "</div>"
      ],
      "text/plain": [
       "  Category of Product/Service Being Purchased - Level 1\\n(GICS, NAICS or other industry classification systems)\n",
       "0              Nonresidential maintenance and repair                                                           \n",
       "1                             Adhesive manufacturing                                                           "
      ]
     },
     "execution_count": 85,
     "metadata": {},
     "output_type": "execute_result"
    }
   ],
   "source": [
    "data_df.head(2)"
   ]
  },
  {
   "cell_type": "code",
   "execution_count": null,
   "id": "d14a188e-5af1-4cfc-b11d-96a940276aa0",
   "metadata": {
    "tags": []
   },
   "outputs": [],
   "source": [
    "# Load the embeddings\n",
    "# Note: We have specified the `model_name` as `titan-v2` to choose `Titan-V2` model. \n",
    "# Use the same value across all the code cells in this section.\n",
    "\n",
    "reference_df = pd.read_csv(files[\"embeddings\"])\n",
    "index = load_embedding(reference_df, label_embedding=\"embedding\", model_name=model_name)\n",
    "faiss.write_index(index, \"embeddings.index\")"
   ]
  },
  {
   "cell_type": "code",
   "execution_count": null,
   "id": "daf7f755-b6f4-48a6-8758-3f39371df203",
   "metadata": {
    "tags": []
   },
   "outputs": [],
   "source": [
    "# Prepare label\n",
    "data_df[\"label\"] = data_df.apply(lambda x: \",\".join(x), axis=1)"
   ]
  },
  {
   "cell_type": "code",
   "execution_count": null,
   "id": "64d3b7e9-323e-4b68-8703-a56c8111e19d",
   "metadata": {
    "tags": []
   },
   "outputs": [
    {
     "data": {
      "text/html": [
       "<div>\n",
       "<style scoped>\n",
       "    .dataframe tbody tr th:only-of-type {\n",
       "        vertical-align: middle;\n",
       "    }\n",
       "\n",
       "    .dataframe tbody tr th {\n",
       "        vertical-align: top;\n",
       "    }\n",
       "\n",
       "    .dataframe thead th {\n",
       "        text-align: right;\n",
       "    }\n",
       "</style>\n",
       "<table border=\"1\" class=\"dataframe\">\n",
       "  <thead>\n",
       "    <tr style=\"text-align: right;\">\n",
       "      <th></th>\n",
       "      <th>Category of Product/Service Being Purchased - Level 1\\n(GICS, NAICS or other industry classification systems)</th>\n",
       "      <th>label</th>\n",
       "    </tr>\n",
       "  </thead>\n",
       "  <tbody>\n",
       "    <tr>\n",
       "      <th>0</th>\n",
       "      <td>Nonresidential maintenance and repair</td>\n",
       "      <td>Nonresidential maintenance and repair</td>\n",
       "    </tr>\n",
       "    <tr>\n",
       "      <th>1</th>\n",
       "      <td>Adhesive manufacturing</td>\n",
       "      <td>Adhesive manufacturing</td>\n",
       "    </tr>\n",
       "  </tbody>\n",
       "</table>\n",
       "</div>"
      ],
      "text/plain": [
       "  Category of Product/Service Being Purchased - Level 1\\n(GICS, NAICS or other industry classification systems)  \\\n",
       "0              Nonresidential maintenance and repair                                                              \n",
       "1                             Adhesive manufacturing                                                              \n",
       "\n",
       "                                   label  \n",
       "0  Nonresidential maintenance and repair  \n",
       "1                 Adhesive manufacturing  "
      ]
     },
     "execution_count": 88,
     "metadata": {},
     "output_type": "execute_result"
    }
   ],
   "source": [
    "data_df.head(2)"
   ]
  },
  {
   "cell_type": "code",
   "execution_count": null,
   "id": "01a2caa9-ebeb-4282-93a1-2539394500a9",
   "metadata": {
    "tags": []
   },
   "outputs": [
    {
     "name": "stdout",
     "output_type": "stream",
     "text": [
      "All labels already embedded.\n"
     ]
    }
   ],
   "source": [
    "# Embed all the labels using the specified model\n",
    "embedded_df = embed_labels(data_df, files[\"embedded_data\"], model_name=model_name)"
   ]
  },
  {
   "cell_type": "code",
   "execution_count": null,
   "id": "b5247d53-8105-4038-93c4-d7a4b710b0b5",
   "metadata": {
    "tags": []
   },
   "outputs": [
    {
     "data": {
      "text/html": [
       "<div>\n",
       "<style scoped>\n",
       "    .dataframe tbody tr th:only-of-type {\n",
       "        vertical-align: middle;\n",
       "    }\n",
       "\n",
       "    .dataframe tbody tr th {\n",
       "        vertical-align: top;\n",
       "    }\n",
       "\n",
       "    .dataframe thead th {\n",
       "        text-align: right;\n",
       "    }\n",
       "</style>\n",
       "<table border=\"1\" class=\"dataframe\">\n",
       "  <thead>\n",
       "    <tr style=\"text-align: right;\">\n",
       "      <th></th>\n",
       "      <th>label</th>\n",
       "      <th>index_ids</th>\n",
       "      <th>Category of Product/Service Being Purchased - Level 1\\n(GICS, NAICS or other industry classification systems)</th>\n",
       "      <th>embedding</th>\n",
       "    </tr>\n",
       "  </thead>\n",
       "  <tbody>\n",
       "    <tr>\n",
       "      <th>0</th>\n",
       "      <td>Adhesive manufacturing</td>\n",
       "      <td>[1]</td>\n",
       "      <td>Adhesive manufacturing</td>\n",
       "      <td>[-1.4375, 3.234375, -1.625, 0.38476562, -1.468...</td>\n",
       "    </tr>\n",
       "    <tr>\n",
       "      <th>1</th>\n",
       "      <td>Nonresidential maintenance and repair</td>\n",
       "      <td>[0]</td>\n",
       "      <td>Nonresidential maintenance and repair</td>\n",
       "      <td>[-1.6875, 1.328125, 0.52734375, 0.5703125, 1.6...</td>\n",
       "    </tr>\n",
       "  </tbody>\n",
       "</table>\n",
       "</div>"
      ],
      "text/plain": [
       "                                   label index_ids  \\\n",
       "0                 Adhesive manufacturing       [1]   \n",
       "1  Nonresidential maintenance and repair       [0]   \n",
       "\n",
       "  Category of Product/Service Being Purchased - Level 1\\n(GICS, NAICS or other industry classification systems)  \\\n",
       "0                             Adhesive manufacturing                                                              \n",
       "1              Nonresidential maintenance and repair                                                              \n",
       "\n",
       "                                           embedding  \n",
       "0  [-1.4375, 3.234375, -1.625, 0.38476562, -1.468...  \n",
       "1  [-1.6875, 1.328125, 0.52734375, 0.5703125, 1.6...  "
      ]
     },
     "execution_count": 90,
     "metadata": {},
     "output_type": "execute_result"
    }
   ],
   "source": [
    "embedded_df.head(2)"
   ]
  },
  {
   "cell_type": "code",
   "execution_count": null,
   "id": "a5678bd6-83b9-494b-94f4-2e4702ae1d74",
   "metadata": {
    "tags": []
   },
   "outputs": [
    {
     "data": {
      "text/html": [
       "<div>\n",
       "<style scoped>\n",
       "    .dataframe tbody tr th:only-of-type {\n",
       "        vertical-align: middle;\n",
       "    }\n",
       "\n",
       "    .dataframe tbody tr th {\n",
       "        vertical-align: top;\n",
       "    }\n",
       "\n",
       "    .dataframe thead th {\n",
       "        text-align: right;\n",
       "    }\n",
       "</style>\n",
       "<table border=\"1\" class=\"dataframe\">\n",
       "  <thead>\n",
       "    <tr style=\"text-align: right;\">\n",
       "      <th></th>\n",
       "      <th>label</th>\n",
       "      <th>index_ids</th>\n",
       "      <th>Category of Product/Service Being Purchased - Level 1\\n(GICS, NAICS or other industry classification systems)</th>\n",
       "      <th>embedding</th>\n",
       "    </tr>\n",
       "  </thead>\n",
       "  <tbody>\n",
       "    <tr>\n",
       "      <th>0</th>\n",
       "      <td>Adhesive manufacturing</td>\n",
       "      <td>[1]</td>\n",
       "      <td>Adhesive manufacturing</td>\n",
       "      <td>[-1.4375, 3.234375, -1.625, 0.38476562, -1.468...</td>\n",
       "    </tr>\n",
       "    <tr>\n",
       "      <th>1</th>\n",
       "      <td>Nonresidential maintenance and repair</td>\n",
       "      <td>[0]</td>\n",
       "      <td>Nonresidential maintenance and repair</td>\n",
       "      <td>[-1.6875, 1.328125, 0.52734375, 0.5703125, 1.6...</td>\n",
       "    </tr>\n",
       "  </tbody>\n",
       "</table>\n",
       "</div>"
      ],
      "text/plain": [
       "                                   label index_ids  \\\n",
       "0                 Adhesive manufacturing       [1]   \n",
       "1  Nonresidential maintenance and repair       [0]   \n",
       "\n",
       "  Category of Product/Service Being Purchased - Level 1\\n(GICS, NAICS or other industry classification systems)  \\\n",
       "0                             Adhesive manufacturing                                                              \n",
       "1              Nonresidential maintenance and repair                                                              \n",
       "\n",
       "                                           embedding  \n",
       "0  [-1.4375, 3.234375, -1.625, 0.38476562, -1.468...  \n",
       "1  [-1.6875, 1.328125, 0.52734375, 0.5703125, 1.6...  "
      ]
     },
     "execution_count": 91,
     "metadata": {},
     "output_type": "execute_result"
    }
   ],
   "source": [
    "synthea_embedded_label = pd.read_csv(files[\"embedded_data\"])\n",
    "synthea_embedded_label.head(2)"
   ]
  },
  {
   "cell_type": "code",
   "execution_count": null,
   "id": "7af95fb0-281c-4a7c-8781-1f922ebeee50",
   "metadata": {
    "tags": []
   },
   "outputs": [],
   "source": [
    "D, I = df_search(synthea_embedded_label, index)"
   ]
  },
  {
   "cell_type": "code",
   "execution_count": null,
   "id": "6efe5ae5-2023-4038-8f68-5cd7f270ae10",
   "metadata": {
    "tags": []
   },
   "outputs": [
    {
     "name": "stdout",
     "output_type": "stream",
     "text": [
      "👉 2 rows remain...\n",
      "👉 1 rows remain...\n"
     ]
    }
   ],
   "source": [
    "entity_relation_match_cluster(\n",
    "    input_df=synthea_embedded_label,\n",
    "    attributes=columns_to_use,\n",
    "    I=I,\n",
    "    refernece_df=reference_df,\n",
    "    label=\"label\"\n",
    ")"
   ]
  },
  {
   "cell_type": "code",
   "execution_count": null,
   "id": "064198a4-4fab-4279-a6c1-cb948783f0cb",
   "metadata": {
    "tags": []
   },
   "outputs": [],
   "source": [
    "clusters = compute_cluster(synthea_embedded_label)\n",
    "final_html = generate_report_for_cluster(synthea_embedded_label, clusters)\n",
    "# print(final_html)"
   ]
  },
  {
   "cell_type": "code",
   "execution_count": null,
   "id": "68bbfc08-6d81-48d0-a1ba-e32e8b7f6e3f",
   "metadata": {},
   "outputs": [],
   "source": [
    "filename = files[\"data\"].split(\"/\")[-1].split(\".\")[0]\n",
    "\n",
    "OUTPUT_DIR = f\"./output/naics/{output_model_name}/\"\n",
    "os.makedirs(OUTPUT_DIR, exist_ok=True)\n",
    "\n",
    "with open(f\"{OUTPUT_DIR}/{filename}_naics_{output_model_name}.html\", \"w\") as file:\n",
    "    file.write(final_html)"
   ]
  },
  {
   "cell_type": "markdown",
   "id": "6a7b200a-f933-4719-846c-c9af97eba28a",
   "metadata": {
    "jp-MarkdownHeadingCollapsed": true,
    "tags": []
   },
   "source": [
    "# Create Naics or Ecoinvent database embeddings"
   ]
  },
  {
   "cell_type": "code",
   "execution_count": 132,
   "id": "1c6c0586-7cf3-4f2b-aa04-08ea8fc1b427",
   "metadata": {},
   "outputs": [
    {
     "name": "stdout",
     "output_type": "stream",
     "text": [
      "[nltk_data] Downloading package brown to /root/nltk_data...\n",
      "[nltk_data]   Package brown is already up-to-date!\n",
      "[nltk_data] Downloading package punkt to /root/nltk_data...\n",
      "[nltk_data]   Package punkt is already up-to-date!\n",
      "[nltk_data] Downloading package wordnet to /root/nltk_data...\n",
      "[nltk_data]   Package wordnet is already up-to-date!\n",
      "[nltk_data] Downloading package averaged_perceptron_tagger to\n",
      "[nltk_data]     /root/nltk_data...\n",
      "[nltk_data]   Package averaged_perceptron_tagger is already up-to-\n",
      "[nltk_data]       date!\n",
      "[nltk_data] Downloading package conll2000 to /root/nltk_data...\n",
      "[nltk_data]   Package conll2000 is already up-to-date!\n",
      "[nltk_data] Downloading package movie_reviews to /root/nltk_data...\n",
      "[nltk_data]   Package movie_reviews is already up-to-date!\n",
      "Finished.\n"
     ]
    }
   ],
   "source": [
    "! pip install textblob -qq\n",
    "! python -m textblob.download_corpora"
   ]
  },
  {
   "cell_type": "code",
   "execution_count": 133,
   "id": "15609c47-f399-4deb-8d79-507c210a4ac7",
   "metadata": {},
   "outputs": [],
   "source": [
    "import ast\n",
    "from textblob import TextBlob"
   ]
  },
  {
   "cell_type": "code",
   "execution_count": 136,
   "id": "190cf911-c568-45f1-a221-b674d43ec988",
   "metadata": {},
   "outputs": [
    {
     "data": {
      "text/plain": [
       "'bedrock'"
      ]
     },
     "execution_count": 136,
     "metadata": {},
     "output_type": "execute_result"
    }
   ],
   "source": [
    "openai.api_type = \"bedrock\"\n",
    "openai.api_type"
   ]
  },
  {
   "cell_type": "markdown",
   "id": "6c94e6d8-641e-4b6c-acc9-73dfb32a930f",
   "metadata": {},
   "source": [
    "## Titan G1"
   ]
  },
  {
   "cell_type": "markdown",
   "id": "f159ad00-291d-47e0-b138-265d975eb69f",
   "metadata": {},
   "source": [
    "Use `Titan G1` to embed the databases."
   ]
  },
  {
   "cell_type": "markdown",
   "id": "33524f38-7c20-4b1d-ab42-18596cdc6581",
   "metadata": {
    "jp-MarkdownHeadingCollapsed": true,
    "tags": []
   },
   "source": [
    "### NAICS"
   ]
  },
  {
   "cell_type": "code",
   "execution_count": 134,
   "id": "88709879-9cc5-40b8-aa9d-e27bd002ec34",
   "metadata": {},
   "outputs": [],
   "source": [
    "# Change the value for `embeddings` while creating new embeddings\n",
    "\n",
    "files = {\n",
    "    \"vocabulary\": f's3://esgflo-ml-test-scope3/naicsdb/SupplyChainGHGEmissionFactors_v1.2_NAICS_CO2e_USD2021.csv',\n",
    "    \"embeddings\": f's3://esgflo-ml-test-scope3/naicsdb/titan_g1_embeddings_output.csv'\n",
    "}"
   ]
  },
  {
   "cell_type": "code",
   "execution_count": 135,
   "id": "39169a4d-f0dc-4a90-a69b-481280d67a23",
   "metadata": {},
   "outputs": [
    {
     "name": "stdout",
     "output_type": "stream",
     "text": [
      "Vocabulary size: 1016\n"
     ]
    }
   ],
   "source": [
    "vocabulary_df = pd.read_csv(files['vocabulary'])\n",
    "print(f\"Vocabulary size: {vocabulary_df.shape[0]}\")"
   ]
  },
  {
   "cell_type": "code",
   "execution_count": 137,
   "id": "9678c5cf-1e28-49c4-b362-0bc0980f56dd",
   "metadata": {},
   "outputs": [],
   "source": [
    "df = vocabulary_df[vocabulary_df[\"2017 NAICS Title\"] != None]\n",
    "naics_g1_new_df = df[[\"2017 NAICS Title\"]].copy()\n",
    "naics_g1_new_df['label'] = naics_g1_new_df['2017 NAICS Title'].apply(lambda x: ' '.join(TextBlob(x).words))"
   ]
  },
  {
   "cell_type": "code",
   "execution_count": 138,
   "id": "eccfa885-bd65-4755-ba16-fc982e64c7e8",
   "metadata": {},
   "outputs": [
    {
     "name": "stdout",
     "output_type": "stream",
     "text": [
      "All labels already embedded.\n"
     ]
    }
   ],
   "source": [
    "res_naics_g1 = embed_labels(naics_g1_new_df, files['embeddings'], model_name=\"titan-g1\")"
   ]
  },
  {
   "cell_type": "code",
   "execution_count": null,
   "id": "1d59dc5a-d2e6-4b60-9e3f-a0dd8319e936",
   "metadata": {},
   "outputs": [],
   "source": [
    "res_naics_g1.head()"
   ]
  },
  {
   "cell_type": "code",
   "execution_count": 152,
   "id": "2b06541b-5c07-4a81-b721-c7b8fd94afa7",
   "metadata": {},
   "outputs": [],
   "source": [
    "# Check the length of the embedding. It should be 1536\n",
    "assert 1536 == len(ast.literal_eval(res_naics_g1[\"embedding\"].iloc[0]))"
   ]
  },
  {
   "cell_type": "markdown",
   "id": "4fc8ed47-b55a-4bd8-aefc-697fe3747724",
   "metadata": {
    "jp-MarkdownHeadingCollapsed": true,
    "tags": []
   },
   "source": [
    "### Ecoinvent"
   ]
  },
  {
   "cell_type": "code",
   "execution_count": 139,
   "id": "8f642008-055e-40dd-95d8-4d3bc7825504",
   "metadata": {
    "tags": []
   },
   "outputs": [],
   "source": [
    "# Change the value for `embeddings` while creating new embeddings\n",
    "\n",
    "files = {\n",
    "    \"vocabulary\": f's3://esgflo-ml-test-scope3/ecoinventdb/20240201_scope3ecoinventdata.csv',\n",
    "    \"embeddings\": f's3://esgflo-ml-test-scope3/ecoinventdb/titan_g1_embeddings_output.csv',\n",
    "}"
   ]
  },
  {
   "cell_type": "code",
   "execution_count": 140,
   "id": "d90315a4-0bb1-4eab-89bb-fbd4a0c21e7c",
   "metadata": {
    "tags": []
   },
   "outputs": [
    {
     "name": "stdout",
     "output_type": "stream",
     "text": [
      "Vocabulary size: 20938\n"
     ]
    }
   ],
   "source": [
    "vocabulary_df = pd.read_csv(files['vocabulary'])\n",
    "print(f\"Vocabulary size: {vocabulary_df.shape[0]}\")"
   ]
  },
  {
   "cell_type": "code",
   "execution_count": 141,
   "id": "5d592472-4537-4d2c-939d-8aede1a0e39d",
   "metadata": {},
   "outputs": [],
   "source": [
    "df = vocabulary_df[vocabulary_df[\"activity_name\"] != None]\n",
    "ecoinvent_g1_new_df = df[[\"activity_name\"]].copy()\n",
    "ecoinvent_g1_new_df['label'] = ecoinvent_g1_new_df['activity_name'].apply(lambda x: ' '.join(TextBlob(x).words))"
   ]
  },
  {
   "cell_type": "code",
   "execution_count": 142,
   "id": "05a507d2-5bbb-4ba9-9cbf-45bb1bc463be",
   "metadata": {
    "tags": []
   },
   "outputs": [
    {
     "name": "stdout",
     "output_type": "stream",
     "text": [
      "All labels already embedded.\n"
     ]
    }
   ],
   "source": [
    "res_ecoinvent_g1 = embed_labels(ecoinvent_g1_new_df, files['embeddings'], model_name=\"titan-g1\")"
   ]
  },
  {
   "cell_type": "code",
   "execution_count": 143,
   "id": "2e71a1b1-a5d8-4801-b1a1-b3cba316d3d5",
   "metadata": {},
   "outputs": [
    {
     "data": {
      "text/html": [
       "<div>\n",
       "<style scoped>\n",
       "    .dataframe tbody tr th:only-of-type {\n",
       "        vertical-align: middle;\n",
       "    }\n",
       "\n",
       "    .dataframe tbody tr th {\n",
       "        vertical-align: top;\n",
       "    }\n",
       "\n",
       "    .dataframe thead th {\n",
       "        text-align: right;\n",
       "    }\n",
       "</style>\n",
       "<table border=\"1\" class=\"dataframe\">\n",
       "  <thead>\n",
       "    <tr style=\"text-align: right;\">\n",
       "      <th></th>\n",
       "      <th>label</th>\n",
       "      <th>index_ids</th>\n",
       "      <th>embedding</th>\n",
       "    </tr>\n",
       "  </thead>\n",
       "  <tbody>\n",
       "    <tr>\n",
       "      <th>0</th>\n",
       "      <td>1,1-difluoroethane production HFC-152a</td>\n",
       "      <td>[14316, 15532]</td>\n",
       "      <td>[0.56640625, 0.44921875, -0.00091934204, -0.04...</td>\n",
       "    </tr>\n",
       "    <tr>\n",
       "      <th>1</th>\n",
       "      <td>1,1-dimethylcyclopentane to generic market for...</td>\n",
       "      <td>[20891]</td>\n",
       "      <td>[1.28125, 0.33203125, 0.36132812, -0.21679688,...</td>\n",
       "    </tr>\n",
       "    <tr>\n",
       "      <th>2</th>\n",
       "      <td>1-methoxy-2-propanol production</td>\n",
       "      <td>[8412]</td>\n",
       "      <td>[0.56640625, -0.044189453, -0.34179688, -0.941...</td>\n",
       "    </tr>\n",
       "    <tr>\n",
       "      <th>3</th>\n",
       "      <td>1-methylcyclopropene production</td>\n",
       "      <td>[3983, 9856]</td>\n",
       "      <td>[0.31640625, 0.25585938, -0.18554688, -0.6875,...</td>\n",
       "    </tr>\n",
       "    <tr>\n",
       "      <th>4</th>\n",
       "      <td>1-naphthylacetic acid production</td>\n",
       "      <td>[6058]</td>\n",
       "      <td>[0.23828125, 0.24316406, -0.20214844, -0.50390...</td>\n",
       "    </tr>\n",
       "  </tbody>\n",
       "</table>\n",
       "</div>"
      ],
      "text/plain": [
       "                                               label       index_ids  \\\n",
       "0             1,1-difluoroethane production HFC-152a  [14316, 15532]   \n",
       "1  1,1-dimethylcyclopentane to generic market for...         [20891]   \n",
       "2                    1-methoxy-2-propanol production          [8412]   \n",
       "3                    1-methylcyclopropene production    [3983, 9856]   \n",
       "4                   1-naphthylacetic acid production          [6058]   \n",
       "\n",
       "                                           embedding  \n",
       "0  [0.56640625, 0.44921875, -0.00091934204, -0.04...  \n",
       "1  [1.28125, 0.33203125, 0.36132812, -0.21679688,...  \n",
       "2  [0.56640625, -0.044189453, -0.34179688, -0.941...  \n",
       "3  [0.31640625, 0.25585938, -0.18554688, -0.6875,...  \n",
       "4  [0.23828125, 0.24316406, -0.20214844, -0.50390...  "
      ]
     },
     "execution_count": 143,
     "metadata": {},
     "output_type": "execute_result"
    }
   ],
   "source": [
    "res_ecoinvent_g1.head()"
   ]
  },
  {
   "cell_type": "code",
   "execution_count": 153,
   "id": "bafe7165-c2ea-49b4-b7b2-7fdd7745035d",
   "metadata": {},
   "outputs": [],
   "source": [
    "# Check the length of the embedding. It should be 1536\n",
    "assert 1536 == len(ast.literal_eval(res_ecoinvent_g1[\"embedding\"].iloc[0]))"
   ]
  },
  {
   "cell_type": "markdown",
   "id": "d7b9b648-bf19-4a98-8c6f-7d319f9f2896",
   "metadata": {},
   "source": [
    "## Titan V2"
   ]
  },
  {
   "cell_type": "markdown",
   "id": "b877d4da-250d-44e8-a19e-5effbee88900",
   "metadata": {},
   "source": [
    "Use `Titan G1` to embed the databases. Note: The value for `normalize` parameter is set to `False` by default."
   ]
  },
  {
   "cell_type": "markdown",
   "id": "bddce506-efb9-4be8-bb1d-77181d7ca56c",
   "metadata": {
    "jp-MarkdownHeadingCollapsed": true,
    "tags": []
   },
   "source": [
    "### NAICS"
   ]
  },
  {
   "cell_type": "code",
   "execution_count": 154,
   "id": "9109b5f0-8790-40cd-be04-f8965cbe56b1",
   "metadata": {
    "tags": []
   },
   "outputs": [],
   "source": [
    "files = {\n",
    "    \"vocabulary\": f's3://esgflo-ml-test-scope3/naicsdb/SupplyChainGHGEmissionFactors_v1.2_NAICS_CO2e_USD2021.csv',\n",
    "    \"embeddings\": f's3://esgflo-ml-test-scope3/naicsdb/titan_v2_embeddings_output.csv'\n",
    "}"
   ]
  },
  {
   "cell_type": "code",
   "execution_count": 155,
   "id": "27532130-a984-4ed6-b434-551db7b250ae",
   "metadata": {
    "tags": []
   },
   "outputs": [
    {
     "name": "stdout",
     "output_type": "stream",
     "text": [
      "Vocabulary size: 1016\n"
     ]
    }
   ],
   "source": [
    "vocabulary_df = pd.read_csv(files['vocabulary'])\n",
    "print(f\"Vocabulary size: {vocabulary_df.shape[0]}\")"
   ]
  },
  {
   "cell_type": "code",
   "execution_count": 156,
   "id": "c9859a11-16dd-4a45-8d88-8953e124381c",
   "metadata": {},
   "outputs": [],
   "source": [
    "df = vocabulary_df[vocabulary_df[\"2017 NAICS Title\"] != None]\n",
    "naics_v2_new_df = df[[\"2017 NAICS Title\"]].copy()\n",
    "naics_v2_new_df['label'] = naics_v2_new_df['2017 NAICS Title'].apply(lambda x: ' '.join(TextBlob(x).words))"
   ]
  },
  {
   "cell_type": "code",
   "execution_count": 157,
   "id": "d3f97c22-6dd8-489f-9cb5-b75c30bea089",
   "metadata": {
    "tags": []
   },
   "outputs": [
    {
     "name": "stdout",
     "output_type": "stream",
     "text": [
      "All labels already embedded.\n"
     ]
    }
   ],
   "source": [
    "res_naics_v2 = embed_labels(naics_v2_new_df, files['embeddings'], model_name=\"titan-v2\")"
   ]
  },
  {
   "cell_type": "code",
   "execution_count": 158,
   "id": "1bd18c03-668e-4635-a10f-4b0dee357728",
   "metadata": {},
   "outputs": [
    {
     "data": {
      "text/html": [
       "<div>\n",
       "<style scoped>\n",
       "    .dataframe tbody tr th:only-of-type {\n",
       "        vertical-align: middle;\n",
       "    }\n",
       "\n",
       "    .dataframe tbody tr th {\n",
       "        vertical-align: top;\n",
       "    }\n",
       "\n",
       "    .dataframe thead th {\n",
       "        text-align: right;\n",
       "    }\n",
       "</style>\n",
       "<table border=\"1\" class=\"dataframe\">\n",
       "  <thead>\n",
       "    <tr style=\"text-align: right;\">\n",
       "      <th></th>\n",
       "      <th>label</th>\n",
       "      <th>index_ids</th>\n",
       "      <th>2017 NAICS Title</th>\n",
       "      <th>embedding</th>\n",
       "    </tr>\n",
       "  </thead>\n",
       "  <tbody>\n",
       "    <tr>\n",
       "      <th>0</th>\n",
       "      <td>Abrasive Product Manufacturing</td>\n",
       "      <td>[292]</td>\n",
       "      <td>Abrasive Product Manufacturing</td>\n",
       "      <td>[-3.75, 1.0703125, 0.08984375, 0.16699219, -2....</td>\n",
       "    </tr>\n",
       "    <tr>\n",
       "      <th>1</th>\n",
       "      <td>Adhesive Manufacturing</td>\n",
       "      <td>[253]</td>\n",
       "      <td>Adhesive Manufacturing</td>\n",
       "      <td>[-1.921875, 3.328125, -1.828125, 0.74609375, -...</td>\n",
       "    </tr>\n",
       "    <tr>\n",
       "      <th>2</th>\n",
       "      <td>Administrative Management and General Manageme...</td>\n",
       "      <td>[800]</td>\n",
       "      <td>Administrative Management and General Manageme...</td>\n",
       "      <td>[-3.71875, 2.921875, 1.0625, -1.2109375, 1.445...</td>\n",
       "    </tr>\n",
       "    <tr>\n",
       "      <th>3</th>\n",
       "      <td>Advertising Agencies</td>\n",
       "      <td>[811]</td>\n",
       "      <td>Advertising Agencies</td>\n",
       "      <td>[2.109375, 2.4375, 2.859375, 1.78125, -1.55468...</td>\n",
       "    </tr>\n",
       "    <tr>\n",
       "      <th>4</th>\n",
       "      <td>Advertising Material Distribution Services</td>\n",
       "      <td>[817]</td>\n",
       "      <td>Advertising Material Distribution Services</td>\n",
       "      <td>[-2.796875, 0.37109375, 2.046875, 1.109375, -4...</td>\n",
       "    </tr>\n",
       "  </tbody>\n",
       "</table>\n",
       "</div>"
      ],
      "text/plain": [
       "                                               label index_ids  \\\n",
       "0                     Abrasive Product Manufacturing     [292]   \n",
       "1                             Adhesive Manufacturing     [253]   \n",
       "2  Administrative Management and General Manageme...     [800]   \n",
       "3                               Advertising Agencies     [811]   \n",
       "4         Advertising Material Distribution Services     [817]   \n",
       "\n",
       "                                    2017 NAICS Title  \\\n",
       "0                     Abrasive Product Manufacturing   \n",
       "1                             Adhesive Manufacturing   \n",
       "2  Administrative Management and General Manageme...   \n",
       "3                               Advertising Agencies   \n",
       "4         Advertising Material Distribution Services   \n",
       "\n",
       "                                           embedding  \n",
       "0  [-3.75, 1.0703125, 0.08984375, 0.16699219, -2....  \n",
       "1  [-1.921875, 3.328125, -1.828125, 0.74609375, -...  \n",
       "2  [-3.71875, 2.921875, 1.0625, -1.2109375, 1.445...  \n",
       "3  [2.109375, 2.4375, 2.859375, 1.78125, -1.55468...  \n",
       "4  [-2.796875, 0.37109375, 2.046875, 1.109375, -4...  "
      ]
     },
     "execution_count": 158,
     "metadata": {},
     "output_type": "execute_result"
    }
   ],
   "source": [
    "res_naics_v2.head()"
   ]
  },
  {
   "cell_type": "code",
   "execution_count": 159,
   "id": "d3906afb-3c13-4a11-8775-cf95e2cc5742",
   "metadata": {},
   "outputs": [],
   "source": [
    "# Check the length of the embedding. It should be 1024\n",
    "assert 1024 == len(ast.literal_eval(res_naics_v2[\"embedding\"].iloc[0]))"
   ]
  },
  {
   "cell_type": "markdown",
   "id": "7d5ac1df-fc4e-48be-826d-a566cbc7de52",
   "metadata": {
    "jp-MarkdownHeadingCollapsed": true,
    "tags": []
   },
   "source": [
    "### Ecoinvent"
   ]
  },
  {
   "cell_type": "code",
   "execution_count": 160,
   "id": "a024597c-fbb7-418d-90ca-3592e2b65511",
   "metadata": {
    "tags": []
   },
   "outputs": [],
   "source": [
    "files = {\n",
    "    \"vocabulary\": f's3://esgflo-ml-test-scope3/ecoinventdb/20240201_scope3ecoinventdata.csv',\n",
    "    \"embeddings\": f's3://esgflo-ml-test-scope3/ecoinventdb/titan_v2_embeddings_output.csv',\n",
    "}"
   ]
  },
  {
   "cell_type": "code",
   "execution_count": 161,
   "id": "6cb16ba9-a217-4100-bb21-2bf56942228c",
   "metadata": {
    "tags": []
   },
   "outputs": [
    {
     "name": "stdout",
     "output_type": "stream",
     "text": [
      "Vocabulary size: 20938\n"
     ]
    }
   ],
   "source": [
    "vocabulary_df = pd.read_csv(files['vocabulary'])\n",
    "print(f\"Vocabulary size: {vocabulary_df.shape[0]}\")"
   ]
  },
  {
   "cell_type": "code",
   "execution_count": 162,
   "id": "f384e7c1-fc97-411d-a1a9-85fffd96389f",
   "metadata": {},
   "outputs": [],
   "source": [
    "df = vocabulary_df[vocabulary_df[\"activity_name\"] != None]\n",
    "ecoinvent_v2_new_df = df[[\"activity_name\"]].copy()\n",
    "ecoinvent_v2_new_df['label'] = ecoinvent_v2_new_df['activity_name'].apply(lambda x: ' '.join(TextBlob(x).words))"
   ]
  },
  {
   "cell_type": "code",
   "execution_count": 163,
   "id": "c720508a-a664-4522-b265-8900d5926525",
   "metadata": {
    "tags": []
   },
   "outputs": [
    {
     "name": "stdout",
     "output_type": "stream",
     "text": [
      "All labels already embedded.\n"
     ]
    }
   ],
   "source": [
    "res_ecoinvent_v2 = embed_labels(ecoinvent_v2_new_df, files['embeddings'], model_name=\"titan-v2\")"
   ]
  },
  {
   "cell_type": "code",
   "execution_count": 164,
   "id": "f59b6e8d-dc19-450e-a66b-f3ce9e7efc98",
   "metadata": {},
   "outputs": [
    {
     "data": {
      "text/html": [
       "<div>\n",
       "<style scoped>\n",
       "    .dataframe tbody tr th:only-of-type {\n",
       "        vertical-align: middle;\n",
       "    }\n",
       "\n",
       "    .dataframe tbody tr th {\n",
       "        vertical-align: top;\n",
       "    }\n",
       "\n",
       "    .dataframe thead th {\n",
       "        text-align: right;\n",
       "    }\n",
       "</style>\n",
       "<table border=\"1\" class=\"dataframe\">\n",
       "  <thead>\n",
       "    <tr style=\"text-align: right;\">\n",
       "      <th></th>\n",
       "      <th>label</th>\n",
       "      <th>index_ids</th>\n",
       "      <th>embedding</th>\n",
       "    </tr>\n",
       "  </thead>\n",
       "  <tbody>\n",
       "    <tr>\n",
       "      <th>0</th>\n",
       "      <td>1,1-difluoroethane production HFC-152a</td>\n",
       "      <td>[14316, 15532]</td>\n",
       "      <td>[0.73046875, 0.27734375, 1.2421875, 0.578125, ...</td>\n",
       "    </tr>\n",
       "    <tr>\n",
       "      <th>1</th>\n",
       "      <td>1,1-dimethylcyclopentane to generic market for...</td>\n",
       "      <td>[20891]</td>\n",
       "      <td>[-1.6953125, 0.8828125, 2.8125, -1.34375, -1.5...</td>\n",
       "    </tr>\n",
       "    <tr>\n",
       "      <th>2</th>\n",
       "      <td>1-methoxy-2-propanol production</td>\n",
       "      <td>[8412]</td>\n",
       "      <td>[1.546875, 2.0625, 2.796875, -1.21875, 1.13281...</td>\n",
       "    </tr>\n",
       "    <tr>\n",
       "      <th>3</th>\n",
       "      <td>1-methylcyclopropene production</td>\n",
       "      <td>[3983, 9856]</td>\n",
       "      <td>[1.7265625, 2.484375, 4.21875, -3.015625, 0.14...</td>\n",
       "    </tr>\n",
       "    <tr>\n",
       "      <th>4</th>\n",
       "      <td>1-naphthylacetic acid production</td>\n",
       "      <td>[6058]</td>\n",
       "      <td>[-0.12597656, 2.546875, 1.546875, 1.03125, -1....</td>\n",
       "    </tr>\n",
       "  </tbody>\n",
       "</table>\n",
       "</div>"
      ],
      "text/plain": [
       "                                               label       index_ids  \\\n",
       "0             1,1-difluoroethane production HFC-152a  [14316, 15532]   \n",
       "1  1,1-dimethylcyclopentane to generic market for...         [20891]   \n",
       "2                    1-methoxy-2-propanol production          [8412]   \n",
       "3                    1-methylcyclopropene production    [3983, 9856]   \n",
       "4                   1-naphthylacetic acid production          [6058]   \n",
       "\n",
       "                                           embedding  \n",
       "0  [0.73046875, 0.27734375, 1.2421875, 0.578125, ...  \n",
       "1  [-1.6953125, 0.8828125, 2.8125, -1.34375, -1.5...  \n",
       "2  [1.546875, 2.0625, 2.796875, -1.21875, 1.13281...  \n",
       "3  [1.7265625, 2.484375, 4.21875, -3.015625, 0.14...  \n",
       "4  [-0.12597656, 2.546875, 1.546875, 1.03125, -1....  "
      ]
     },
     "execution_count": 164,
     "metadata": {},
     "output_type": "execute_result"
    }
   ],
   "source": [
    "res_ecoinvent_v2.head()"
   ]
  },
  {
   "cell_type": "code",
   "execution_count": 165,
   "id": "98f9c236-25c3-4c1f-8f72-074b72d58b50",
   "metadata": {},
   "outputs": [],
   "source": [
    "# Check the length of the embedding. It should be 1024\n",
    "assert 1024 == len(ast.literal_eval(res_ecoinvent_v2[\"embedding\"].iloc[0]))"
   ]
  },
  {
   "cell_type": "code",
   "execution_count": null,
   "id": "0aabb8c5-be96-4583-a2a9-cabb5458abb3",
   "metadata": {},
   "outputs": [],
   "source": []
  }
 ],
 "metadata": {
  "availableInstances": [
   {
    "_defaultOrder": 0,
    "_isFastLaunch": true,
    "category": "General purpose",
    "gpuNum": 0,
    "hideHardwareSpecs": false,
    "memoryGiB": 4,
    "name": "ml.t3.medium",
    "vcpuNum": 2
   },
   {
    "_defaultOrder": 1,
    "_isFastLaunch": false,
    "category": "General purpose",
    "gpuNum": 0,
    "hideHardwareSpecs": false,
    "memoryGiB": 8,
    "name": "ml.t3.large",
    "vcpuNum": 2
   },
   {
    "_defaultOrder": 2,
    "_isFastLaunch": false,
    "category": "General purpose",
    "gpuNum": 0,
    "hideHardwareSpecs": false,
    "memoryGiB": 16,
    "name": "ml.t3.xlarge",
    "vcpuNum": 4
   },
   {
    "_defaultOrder": 3,
    "_isFastLaunch": false,
    "category": "General purpose",
    "gpuNum": 0,
    "hideHardwareSpecs": false,
    "memoryGiB": 32,
    "name": "ml.t3.2xlarge",
    "vcpuNum": 8
   },
   {
    "_defaultOrder": 4,
    "_isFastLaunch": true,
    "category": "General purpose",
    "gpuNum": 0,
    "hideHardwareSpecs": false,
    "memoryGiB": 8,
    "name": "ml.m5.large",
    "vcpuNum": 2
   },
   {
    "_defaultOrder": 5,
    "_isFastLaunch": false,
    "category": "General purpose",
    "gpuNum": 0,
    "hideHardwareSpecs": false,
    "memoryGiB": 16,
    "name": "ml.m5.xlarge",
    "vcpuNum": 4
   },
   {
    "_defaultOrder": 6,
    "_isFastLaunch": false,
    "category": "General purpose",
    "gpuNum": 0,
    "hideHardwareSpecs": false,
    "memoryGiB": 32,
    "name": "ml.m5.2xlarge",
    "vcpuNum": 8
   },
   {
    "_defaultOrder": 7,
    "_isFastLaunch": false,
    "category": "General purpose",
    "gpuNum": 0,
    "hideHardwareSpecs": false,
    "memoryGiB": 64,
    "name": "ml.m5.4xlarge",
    "vcpuNum": 16
   },
   {
    "_defaultOrder": 8,
    "_isFastLaunch": false,
    "category": "General purpose",
    "gpuNum": 0,
    "hideHardwareSpecs": false,
    "memoryGiB": 128,
    "name": "ml.m5.8xlarge",
    "vcpuNum": 32
   },
   {
    "_defaultOrder": 9,
    "_isFastLaunch": false,
    "category": "General purpose",
    "gpuNum": 0,
    "hideHardwareSpecs": false,
    "memoryGiB": 192,
    "name": "ml.m5.12xlarge",
    "vcpuNum": 48
   },
   {
    "_defaultOrder": 10,
    "_isFastLaunch": false,
    "category": "General purpose",
    "gpuNum": 0,
    "hideHardwareSpecs": false,
    "memoryGiB": 256,
    "name": "ml.m5.16xlarge",
    "vcpuNum": 64
   },
   {
    "_defaultOrder": 11,
    "_isFastLaunch": false,
    "category": "General purpose",
    "gpuNum": 0,
    "hideHardwareSpecs": false,
    "memoryGiB": 384,
    "name": "ml.m5.24xlarge",
    "vcpuNum": 96
   },
   {
    "_defaultOrder": 12,
    "_isFastLaunch": false,
    "category": "General purpose",
    "gpuNum": 0,
    "hideHardwareSpecs": false,
    "memoryGiB": 8,
    "name": "ml.m5d.large",
    "vcpuNum": 2
   },
   {
    "_defaultOrder": 13,
    "_isFastLaunch": false,
    "category": "General purpose",
    "gpuNum": 0,
    "hideHardwareSpecs": false,
    "memoryGiB": 16,
    "name": "ml.m5d.xlarge",
    "vcpuNum": 4
   },
   {
    "_defaultOrder": 14,
    "_isFastLaunch": false,
    "category": "General purpose",
    "gpuNum": 0,
    "hideHardwareSpecs": false,
    "memoryGiB": 32,
    "name": "ml.m5d.2xlarge",
    "vcpuNum": 8
   },
   {
    "_defaultOrder": 15,
    "_isFastLaunch": false,
    "category": "General purpose",
    "gpuNum": 0,
    "hideHardwareSpecs": false,
    "memoryGiB": 64,
    "name": "ml.m5d.4xlarge",
    "vcpuNum": 16
   },
   {
    "_defaultOrder": 16,
    "_isFastLaunch": false,
    "category": "General purpose",
    "gpuNum": 0,
    "hideHardwareSpecs": false,
    "memoryGiB": 128,
    "name": "ml.m5d.8xlarge",
    "vcpuNum": 32
   },
   {
    "_defaultOrder": 17,
    "_isFastLaunch": false,
    "category": "General purpose",
    "gpuNum": 0,
    "hideHardwareSpecs": false,
    "memoryGiB": 192,
    "name": "ml.m5d.12xlarge",
    "vcpuNum": 48
   },
   {
    "_defaultOrder": 18,
    "_isFastLaunch": false,
    "category": "General purpose",
    "gpuNum": 0,
    "hideHardwareSpecs": false,
    "memoryGiB": 256,
    "name": "ml.m5d.16xlarge",
    "vcpuNum": 64
   },
   {
    "_defaultOrder": 19,
    "_isFastLaunch": false,
    "category": "General purpose",
    "gpuNum": 0,
    "hideHardwareSpecs": false,
    "memoryGiB": 384,
    "name": "ml.m5d.24xlarge",
    "vcpuNum": 96
   },
   {
    "_defaultOrder": 20,
    "_isFastLaunch": false,
    "category": "General purpose",
    "gpuNum": 0,
    "hideHardwareSpecs": true,
    "memoryGiB": 0,
    "name": "ml.geospatial.interactive",
    "supportedImageNames": [
     "sagemaker-geospatial-v1-0"
    ],
    "vcpuNum": 0
   },
   {
    "_defaultOrder": 21,
    "_isFastLaunch": true,
    "category": "Compute optimized",
    "gpuNum": 0,
    "hideHardwareSpecs": false,
    "memoryGiB": 4,
    "name": "ml.c5.large",
    "vcpuNum": 2
   },
   {
    "_defaultOrder": 22,
    "_isFastLaunch": false,
    "category": "Compute optimized",
    "gpuNum": 0,
    "hideHardwareSpecs": false,
    "memoryGiB": 8,
    "name": "ml.c5.xlarge",
    "vcpuNum": 4
   },
   {
    "_defaultOrder": 23,
    "_isFastLaunch": false,
    "category": "Compute optimized",
    "gpuNum": 0,
    "hideHardwareSpecs": false,
    "memoryGiB": 16,
    "name": "ml.c5.2xlarge",
    "vcpuNum": 8
   },
   {
    "_defaultOrder": 24,
    "_isFastLaunch": false,
    "category": "Compute optimized",
    "gpuNum": 0,
    "hideHardwareSpecs": false,
    "memoryGiB": 32,
    "name": "ml.c5.4xlarge",
    "vcpuNum": 16
   },
   {
    "_defaultOrder": 25,
    "_isFastLaunch": false,
    "category": "Compute optimized",
    "gpuNum": 0,
    "hideHardwareSpecs": false,
    "memoryGiB": 72,
    "name": "ml.c5.9xlarge",
    "vcpuNum": 36
   },
   {
    "_defaultOrder": 26,
    "_isFastLaunch": false,
    "category": "Compute optimized",
    "gpuNum": 0,
    "hideHardwareSpecs": false,
    "memoryGiB": 96,
    "name": "ml.c5.12xlarge",
    "vcpuNum": 48
   },
   {
    "_defaultOrder": 27,
    "_isFastLaunch": false,
    "category": "Compute optimized",
    "gpuNum": 0,
    "hideHardwareSpecs": false,
    "memoryGiB": 144,
    "name": "ml.c5.18xlarge",
    "vcpuNum": 72
   },
   {
    "_defaultOrder": 28,
    "_isFastLaunch": false,
    "category": "Compute optimized",
    "gpuNum": 0,
    "hideHardwareSpecs": false,
    "memoryGiB": 192,
    "name": "ml.c5.24xlarge",
    "vcpuNum": 96
   },
   {
    "_defaultOrder": 29,
    "_isFastLaunch": true,
    "category": "Accelerated computing",
    "gpuNum": 1,
    "hideHardwareSpecs": false,
    "memoryGiB": 16,
    "name": "ml.g4dn.xlarge",
    "vcpuNum": 4
   },
   {
    "_defaultOrder": 30,
    "_isFastLaunch": false,
    "category": "Accelerated computing",
    "gpuNum": 1,
    "hideHardwareSpecs": false,
    "memoryGiB": 32,
    "name": "ml.g4dn.2xlarge",
    "vcpuNum": 8
   },
   {
    "_defaultOrder": 31,
    "_isFastLaunch": false,
    "category": "Accelerated computing",
    "gpuNum": 1,
    "hideHardwareSpecs": false,
    "memoryGiB": 64,
    "name": "ml.g4dn.4xlarge",
    "vcpuNum": 16
   },
   {
    "_defaultOrder": 32,
    "_isFastLaunch": false,
    "category": "Accelerated computing",
    "gpuNum": 1,
    "hideHardwareSpecs": false,
    "memoryGiB": 128,
    "name": "ml.g4dn.8xlarge",
    "vcpuNum": 32
   },
   {
    "_defaultOrder": 33,
    "_isFastLaunch": false,
    "category": "Accelerated computing",
    "gpuNum": 4,
    "hideHardwareSpecs": false,
    "memoryGiB": 192,
    "name": "ml.g4dn.12xlarge",
    "vcpuNum": 48
   },
   {
    "_defaultOrder": 34,
    "_isFastLaunch": false,
    "category": "Accelerated computing",
    "gpuNum": 1,
    "hideHardwareSpecs": false,
    "memoryGiB": 256,
    "name": "ml.g4dn.16xlarge",
    "vcpuNum": 64
   },
   {
    "_defaultOrder": 35,
    "_isFastLaunch": false,
    "category": "Accelerated computing",
    "gpuNum": 1,
    "hideHardwareSpecs": false,
    "memoryGiB": 61,
    "name": "ml.p3.2xlarge",
    "vcpuNum": 8
   },
   {
    "_defaultOrder": 36,
    "_isFastLaunch": false,
    "category": "Accelerated computing",
    "gpuNum": 4,
    "hideHardwareSpecs": false,
    "memoryGiB": 244,
    "name": "ml.p3.8xlarge",
    "vcpuNum": 32
   },
   {
    "_defaultOrder": 37,
    "_isFastLaunch": false,
    "category": "Accelerated computing",
    "gpuNum": 8,
    "hideHardwareSpecs": false,
    "memoryGiB": 488,
    "name": "ml.p3.16xlarge",
    "vcpuNum": 64
   },
   {
    "_defaultOrder": 38,
    "_isFastLaunch": false,
    "category": "Accelerated computing",
    "gpuNum": 8,
    "hideHardwareSpecs": false,
    "memoryGiB": 768,
    "name": "ml.p3dn.24xlarge",
    "vcpuNum": 96
   },
   {
    "_defaultOrder": 39,
    "_isFastLaunch": false,
    "category": "Memory Optimized",
    "gpuNum": 0,
    "hideHardwareSpecs": false,
    "memoryGiB": 16,
    "name": "ml.r5.large",
    "vcpuNum": 2
   },
   {
    "_defaultOrder": 40,
    "_isFastLaunch": false,
    "category": "Memory Optimized",
    "gpuNum": 0,
    "hideHardwareSpecs": false,
    "memoryGiB": 32,
    "name": "ml.r5.xlarge",
    "vcpuNum": 4
   },
   {
    "_defaultOrder": 41,
    "_isFastLaunch": false,
    "category": "Memory Optimized",
    "gpuNum": 0,
    "hideHardwareSpecs": false,
    "memoryGiB": 64,
    "name": "ml.r5.2xlarge",
    "vcpuNum": 8
   },
   {
    "_defaultOrder": 42,
    "_isFastLaunch": false,
    "category": "Memory Optimized",
    "gpuNum": 0,
    "hideHardwareSpecs": false,
    "memoryGiB": 128,
    "name": "ml.r5.4xlarge",
    "vcpuNum": 16
   },
   {
    "_defaultOrder": 43,
    "_isFastLaunch": false,
    "category": "Memory Optimized",
    "gpuNum": 0,
    "hideHardwareSpecs": false,
    "memoryGiB": 256,
    "name": "ml.r5.8xlarge",
    "vcpuNum": 32
   },
   {
    "_defaultOrder": 44,
    "_isFastLaunch": false,
    "category": "Memory Optimized",
    "gpuNum": 0,
    "hideHardwareSpecs": false,
    "memoryGiB": 384,
    "name": "ml.r5.12xlarge",
    "vcpuNum": 48
   },
   {
    "_defaultOrder": 45,
    "_isFastLaunch": false,
    "category": "Memory Optimized",
    "gpuNum": 0,
    "hideHardwareSpecs": false,
    "memoryGiB": 512,
    "name": "ml.r5.16xlarge",
    "vcpuNum": 64
   },
   {
    "_defaultOrder": 46,
    "_isFastLaunch": false,
    "category": "Memory Optimized",
    "gpuNum": 0,
    "hideHardwareSpecs": false,
    "memoryGiB": 768,
    "name": "ml.r5.24xlarge",
    "vcpuNum": 96
   },
   {
    "_defaultOrder": 47,
    "_isFastLaunch": false,
    "category": "Accelerated computing",
    "gpuNum": 1,
    "hideHardwareSpecs": false,
    "memoryGiB": 16,
    "name": "ml.g5.xlarge",
    "vcpuNum": 4
   },
   {
    "_defaultOrder": 48,
    "_isFastLaunch": false,
    "category": "Accelerated computing",
    "gpuNum": 1,
    "hideHardwareSpecs": false,
    "memoryGiB": 32,
    "name": "ml.g5.2xlarge",
    "vcpuNum": 8
   },
   {
    "_defaultOrder": 49,
    "_isFastLaunch": false,
    "category": "Accelerated computing",
    "gpuNum": 1,
    "hideHardwareSpecs": false,
    "memoryGiB": 64,
    "name": "ml.g5.4xlarge",
    "vcpuNum": 16
   },
   {
    "_defaultOrder": 50,
    "_isFastLaunch": false,
    "category": "Accelerated computing",
    "gpuNum": 1,
    "hideHardwareSpecs": false,
    "memoryGiB": 128,
    "name": "ml.g5.8xlarge",
    "vcpuNum": 32
   },
   {
    "_defaultOrder": 51,
    "_isFastLaunch": false,
    "category": "Accelerated computing",
    "gpuNum": 1,
    "hideHardwareSpecs": false,
    "memoryGiB": 256,
    "name": "ml.g5.16xlarge",
    "vcpuNum": 64
   },
   {
    "_defaultOrder": 52,
    "_isFastLaunch": false,
    "category": "Accelerated computing",
    "gpuNum": 4,
    "hideHardwareSpecs": false,
    "memoryGiB": 192,
    "name": "ml.g5.12xlarge",
    "vcpuNum": 48
   },
   {
    "_defaultOrder": 53,
    "_isFastLaunch": false,
    "category": "Accelerated computing",
    "gpuNum": 4,
    "hideHardwareSpecs": false,
    "memoryGiB": 384,
    "name": "ml.g5.24xlarge",
    "vcpuNum": 96
   },
   {
    "_defaultOrder": 54,
    "_isFastLaunch": false,
    "category": "Accelerated computing",
    "gpuNum": 8,
    "hideHardwareSpecs": false,
    "memoryGiB": 768,
    "name": "ml.g5.48xlarge",
    "vcpuNum": 192
   },
   {
    "_defaultOrder": 55,
    "_isFastLaunch": false,
    "category": "Accelerated computing",
    "gpuNum": 8,
    "hideHardwareSpecs": false,
    "memoryGiB": 1152,
    "name": "ml.p4d.24xlarge",
    "vcpuNum": 96
   },
   {
    "_defaultOrder": 56,
    "_isFastLaunch": false,
    "category": "Accelerated computing",
    "gpuNum": 8,
    "hideHardwareSpecs": false,
    "memoryGiB": 1152,
    "name": "ml.p4de.24xlarge",
    "vcpuNum": 96
   },
   {
    "_defaultOrder": 57,
    "_isFastLaunch": false,
    "category": "Accelerated computing",
    "gpuNum": 0,
    "hideHardwareSpecs": false,
    "memoryGiB": 32,
    "name": "ml.trn1.2xlarge",
    "vcpuNum": 8
   },
   {
    "_defaultOrder": 58,
    "_isFastLaunch": false,
    "category": "Accelerated computing",
    "gpuNum": 0,
    "hideHardwareSpecs": false,
    "memoryGiB": 512,
    "name": "ml.trn1.32xlarge",
    "vcpuNum": 128
   },
   {
    "_defaultOrder": 59,
    "_isFastLaunch": false,
    "category": "Accelerated computing",
    "gpuNum": 0,
    "hideHardwareSpecs": false,
    "memoryGiB": 512,
    "name": "ml.trn1n.32xlarge",
    "vcpuNum": 128
   }
  ],
  "instance_type": "ml.t3.medium",
  "kernelspec": {
   "display_name": "Python 3 (Data Science 3.0)",
   "language": "python",
   "name": "python3__SAGEMAKER_INTERNAL__arn:aws:sagemaker:us-east-1:081325390199:image/sagemaker-data-science-310-v1"
  },
  "language_info": {
   "codemirror_mode": {
    "name": "ipython",
    "version": 3
   },
   "file_extension": ".py",
   "mimetype": "text/x-python",
   "name": "python",
   "nbconvert_exporter": "python",
   "pygments_lexer": "ipython3",
   "version": "3.10.6"
  }
 },
 "nbformat": 4,
 "nbformat_minor": 5
}
